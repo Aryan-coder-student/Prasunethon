{
 "cells": [
  {
   "cell_type": "code",
   "execution_count": 180,
   "id": "27e8471e-c9c8-4707-a56c-bf499bb4ab07",
   "metadata": {},
   "outputs": [],
   "source": [
    "import pandas as pd \n",
    "df_irrigation = pd.read_csv(\"Irrigation/datasets - datasets.csv\")"
   ]
  },
  {
   "cell_type": "code",
   "execution_count": 181,
   "id": "3451e345-8ec6-4890-9092-79e52f71127d",
   "metadata": {},
   "outputs": [
    {
     "data": {
      "text/html": [
       "<div>\n",
       "<style scoped>\n",
       "    .dataframe tbody tr th:only-of-type {\n",
       "        vertical-align: middle;\n",
       "    }\n",
       "\n",
       "    .dataframe tbody tr th {\n",
       "        vertical-align: top;\n",
       "    }\n",
       "\n",
       "    .dataframe thead th {\n",
       "        text-align: right;\n",
       "    }\n",
       "</style>\n",
       "<table border=\"1\" class=\"dataframe\">\n",
       "  <thead>\n",
       "    <tr style=\"text-align: right;\">\n",
       "      <th></th>\n",
       "      <th>CropType</th>\n",
       "      <th>CropDays</th>\n",
       "      <th>SoilMoisture</th>\n",
       "      <th>temperature</th>\n",
       "      <th>Humidity</th>\n",
       "      <th>Irrigation</th>\n",
       "    </tr>\n",
       "  </thead>\n",
       "  <tbody>\n",
       "    <tr>\n",
       "      <th>0</th>\n",
       "      <td>Wheat</td>\n",
       "      <td>10</td>\n",
       "      <td>400</td>\n",
       "      <td>30</td>\n",
       "      <td>15</td>\n",
       "      <td>0</td>\n",
       "    </tr>\n",
       "    <tr>\n",
       "      <th>1</th>\n",
       "      <td>Wheat</td>\n",
       "      <td>7</td>\n",
       "      <td>200</td>\n",
       "      <td>30</td>\n",
       "      <td>32</td>\n",
       "      <td>0</td>\n",
       "    </tr>\n",
       "    <tr>\n",
       "      <th>2</th>\n",
       "      <td>Wheat</td>\n",
       "      <td>9</td>\n",
       "      <td>300</td>\n",
       "      <td>21</td>\n",
       "      <td>28</td>\n",
       "      <td>0</td>\n",
       "    </tr>\n",
       "    <tr>\n",
       "      <th>3</th>\n",
       "      <td>Wheat</td>\n",
       "      <td>3</td>\n",
       "      <td>500</td>\n",
       "      <td>40</td>\n",
       "      <td>22</td>\n",
       "      <td>0</td>\n",
       "    </tr>\n",
       "    <tr>\n",
       "      <th>4</th>\n",
       "      <td>Wheat</td>\n",
       "      <td>2</td>\n",
       "      <td>700</td>\n",
       "      <td>23</td>\n",
       "      <td>34</td>\n",
       "      <td>0</td>\n",
       "    </tr>\n",
       "  </tbody>\n",
       "</table>\n",
       "</div>"
      ],
      "text/plain": [
       "  CropType  CropDays  SoilMoisture  temperature  Humidity  Irrigation\n",
       "0    Wheat        10           400           30        15           0\n",
       "1    Wheat         7           200           30        32           0\n",
       "2    Wheat         9           300           21        28           0\n",
       "3    Wheat         3           500           40        22           0\n",
       "4    Wheat         2           700           23        34           0"
      ]
     },
     "execution_count": 181,
     "metadata": {},
     "output_type": "execute_result"
    }
   ],
   "source": [
    "df_irrigation.head()"
   ]
  },
  {
   "cell_type": "code",
   "execution_count": 182,
   "id": "9f7364dc-df12-435f-914a-bd6b95b1bb3f",
   "metadata": {},
   "outputs": [],
   "source": [
    "df_fertilizer = pd.read_csv(\"Fertilizer/Fertilizer Prediction.csv\")\n",
    "df_fertility = pd.read_csv(\"Fertility/dataset1.csv\")"
   ]
  },
  {
   "cell_type": "code",
   "execution_count": 183,
   "id": "6d99710d-69f1-4d3f-adf5-f9347c4469e1",
   "metadata": {},
   "outputs": [
    {
     "data": {
      "text/html": [
       "<div>\n",
       "<style scoped>\n",
       "    .dataframe tbody tr th:only-of-type {\n",
       "        vertical-align: middle;\n",
       "    }\n",
       "\n",
       "    .dataframe tbody tr th {\n",
       "        vertical-align: top;\n",
       "    }\n",
       "\n",
       "    .dataframe thead th {\n",
       "        text-align: right;\n",
       "    }\n",
       "</style>\n",
       "<table border=\"1\" class=\"dataframe\">\n",
       "  <thead>\n",
       "    <tr style=\"text-align: right;\">\n",
       "      <th></th>\n",
       "      <th>Temparature</th>\n",
       "      <th>Humidity</th>\n",
       "      <th>Moisture</th>\n",
       "      <th>Soil Type</th>\n",
       "      <th>Crop Type</th>\n",
       "      <th>Nitrogen</th>\n",
       "      <th>Potassium</th>\n",
       "      <th>Phosphorous</th>\n",
       "      <th>Fertilizer Name</th>\n",
       "    </tr>\n",
       "  </thead>\n",
       "  <tbody>\n",
       "    <tr>\n",
       "      <th>0</th>\n",
       "      <td>26</td>\n",
       "      <td>52</td>\n",
       "      <td>38</td>\n",
       "      <td>Sandy</td>\n",
       "      <td>Maize</td>\n",
       "      <td>37</td>\n",
       "      <td>0</td>\n",
       "      <td>0</td>\n",
       "      <td>Urea</td>\n",
       "    </tr>\n",
       "    <tr>\n",
       "      <th>1</th>\n",
       "      <td>29</td>\n",
       "      <td>52</td>\n",
       "      <td>45</td>\n",
       "      <td>Loamy</td>\n",
       "      <td>Sugarcane</td>\n",
       "      <td>12</td>\n",
       "      <td>0</td>\n",
       "      <td>36</td>\n",
       "      <td>DAP</td>\n",
       "    </tr>\n",
       "    <tr>\n",
       "      <th>2</th>\n",
       "      <td>34</td>\n",
       "      <td>65</td>\n",
       "      <td>62</td>\n",
       "      <td>Black</td>\n",
       "      <td>Cotton</td>\n",
       "      <td>7</td>\n",
       "      <td>9</td>\n",
       "      <td>30</td>\n",
       "      <td>14-35-14</td>\n",
       "    </tr>\n",
       "    <tr>\n",
       "      <th>3</th>\n",
       "      <td>32</td>\n",
       "      <td>62</td>\n",
       "      <td>34</td>\n",
       "      <td>Red</td>\n",
       "      <td>Tobacco</td>\n",
       "      <td>22</td>\n",
       "      <td>0</td>\n",
       "      <td>20</td>\n",
       "      <td>28-28</td>\n",
       "    </tr>\n",
       "    <tr>\n",
       "      <th>4</th>\n",
       "      <td>28</td>\n",
       "      <td>54</td>\n",
       "      <td>46</td>\n",
       "      <td>Clayey</td>\n",
       "      <td>Paddy</td>\n",
       "      <td>35</td>\n",
       "      <td>0</td>\n",
       "      <td>0</td>\n",
       "      <td>Urea</td>\n",
       "    </tr>\n",
       "  </tbody>\n",
       "</table>\n",
       "</div>"
      ],
      "text/plain": [
       "   Temparature  Humidity   Moisture Soil Type  Crop Type  Nitrogen  Potassium  \\\n",
       "0           26         52        38     Sandy      Maize        37          0   \n",
       "1           29         52        45     Loamy  Sugarcane        12          0   \n",
       "2           34         65        62     Black     Cotton         7          9   \n",
       "3           32         62        34       Red    Tobacco        22          0   \n",
       "4           28         54        46    Clayey      Paddy        35          0   \n",
       "\n",
       "   Phosphorous Fertilizer Name  \n",
       "0            0            Urea  \n",
       "1           36             DAP  \n",
       "2           30        14-35-14  \n",
       "3           20           28-28  \n",
       "4            0            Urea  "
      ]
     },
     "execution_count": 183,
     "metadata": {},
     "output_type": "execute_result"
    }
   ],
   "source": [
    "df_fertilizer.head()"
   ]
  },
  {
   "cell_type": "code",
   "execution_count": 184,
   "id": "ab8504f6-dbe5-4c28-b5f1-ff2067bbfc2b",
   "metadata": {},
   "outputs": [
    {
     "data": {
      "text/html": [
       "<div>\n",
       "<style scoped>\n",
       "    .dataframe tbody tr th:only-of-type {\n",
       "        vertical-align: middle;\n",
       "    }\n",
       "\n",
       "    .dataframe tbody tr th {\n",
       "        vertical-align: top;\n",
       "    }\n",
       "\n",
       "    .dataframe thead th {\n",
       "        text-align: right;\n",
       "    }\n",
       "</style>\n",
       "<table border=\"1\" class=\"dataframe\">\n",
       "  <thead>\n",
       "    <tr style=\"text-align: right;\">\n",
       "      <th></th>\n",
       "      <th>N</th>\n",
       "      <th>P</th>\n",
       "      <th>K</th>\n",
       "      <th>pH</th>\n",
       "      <th>EC</th>\n",
       "      <th>OC</th>\n",
       "      <th>S</th>\n",
       "      <th>Zn</th>\n",
       "      <th>Fe</th>\n",
       "      <th>Cu</th>\n",
       "      <th>Mn</th>\n",
       "      <th>B</th>\n",
       "      <th>Output</th>\n",
       "    </tr>\n",
       "  </thead>\n",
       "  <tbody>\n",
       "    <tr>\n",
       "      <th>0</th>\n",
       "      <td>138</td>\n",
       "      <td>8.6</td>\n",
       "      <td>560</td>\n",
       "      <td>7.46</td>\n",
       "      <td>0.62</td>\n",
       "      <td>0.70</td>\n",
       "      <td>5.9</td>\n",
       "      <td>0.24</td>\n",
       "      <td>0.31</td>\n",
       "      <td>0.77</td>\n",
       "      <td>8.71</td>\n",
       "      <td>0.11</td>\n",
       "      <td>0</td>\n",
       "    </tr>\n",
       "    <tr>\n",
       "      <th>1</th>\n",
       "      <td>213</td>\n",
       "      <td>7.5</td>\n",
       "      <td>338</td>\n",
       "      <td>7.62</td>\n",
       "      <td>0.75</td>\n",
       "      <td>1.06</td>\n",
       "      <td>25.4</td>\n",
       "      <td>0.30</td>\n",
       "      <td>0.86</td>\n",
       "      <td>1.54</td>\n",
       "      <td>2.89</td>\n",
       "      <td>2.29</td>\n",
       "      <td>0</td>\n",
       "    </tr>\n",
       "    <tr>\n",
       "      <th>2</th>\n",
       "      <td>163</td>\n",
       "      <td>9.6</td>\n",
       "      <td>718</td>\n",
       "      <td>7.59</td>\n",
       "      <td>0.51</td>\n",
       "      <td>1.11</td>\n",
       "      <td>14.3</td>\n",
       "      <td>0.30</td>\n",
       "      <td>0.86</td>\n",
       "      <td>1.57</td>\n",
       "      <td>2.70</td>\n",
       "      <td>2.03</td>\n",
       "      <td>0</td>\n",
       "    </tr>\n",
       "    <tr>\n",
       "      <th>3</th>\n",
       "      <td>157</td>\n",
       "      <td>6.8</td>\n",
       "      <td>475</td>\n",
       "      <td>7.64</td>\n",
       "      <td>0.58</td>\n",
       "      <td>0.94</td>\n",
       "      <td>26.0</td>\n",
       "      <td>0.34</td>\n",
       "      <td>0.54</td>\n",
       "      <td>1.53</td>\n",
       "      <td>2.65</td>\n",
       "      <td>1.82</td>\n",
       "      <td>0</td>\n",
       "    </tr>\n",
       "    <tr>\n",
       "      <th>4</th>\n",
       "      <td>270</td>\n",
       "      <td>9.9</td>\n",
       "      <td>444</td>\n",
       "      <td>7.63</td>\n",
       "      <td>0.40</td>\n",
       "      <td>0.86</td>\n",
       "      <td>11.8</td>\n",
       "      <td>0.25</td>\n",
       "      <td>0.76</td>\n",
       "      <td>1.69</td>\n",
       "      <td>2.43</td>\n",
       "      <td>2.26</td>\n",
       "      <td>1</td>\n",
       "    </tr>\n",
       "  </tbody>\n",
       "</table>\n",
       "</div>"
      ],
      "text/plain": [
       "     N    P    K    pH    EC    OC     S    Zn    Fe    Cu    Mn     B  Output\n",
       "0  138  8.6  560  7.46  0.62  0.70   5.9  0.24  0.31  0.77  8.71  0.11       0\n",
       "1  213  7.5  338  7.62  0.75  1.06  25.4  0.30  0.86  1.54  2.89  2.29       0\n",
       "2  163  9.6  718  7.59  0.51  1.11  14.3  0.30  0.86  1.57  2.70  2.03       0\n",
       "3  157  6.8  475  7.64  0.58  0.94  26.0  0.34  0.54  1.53  2.65  1.82       0\n",
       "4  270  9.9  444  7.63  0.40  0.86  11.8  0.25  0.76  1.69  2.43  2.26       1"
      ]
     },
     "execution_count": 184,
     "metadata": {},
     "output_type": "execute_result"
    }
   ],
   "source": [
    "df_fertility.head(5)"
   ]
  },
  {
   "cell_type": "markdown",
   "id": "113b1914-ac49-4fce-b417-c8a28994f3d3",
   "metadata": {},
   "source": [
    "# Irrigation"
   ]
  },
  {
   "cell_type": "code",
   "execution_count": 185,
   "id": "928388fc-393c-4a4d-b2f3-f371aa1598a7",
   "metadata": {},
   "outputs": [
    {
     "data": {
      "text/plain": [
       "Index(['CropType', 'CropDays', 'SoilMoisture', 'temperature', 'Humidity',\n",
       "       'Irrigation'],\n",
       "      dtype='object')"
      ]
     },
     "execution_count": 185,
     "metadata": {},
     "output_type": "execute_result"
    }
   ],
   "source": [
    "df_irrigation.columns"
   ]
  },
  {
   "cell_type": "code",
   "execution_count": 186,
   "id": "9ce9224f-e5cd-4afa-bcba-1eaac73deef0",
   "metadata": {},
   "outputs": [
    {
     "data": {
      "text/plain": [
       "array(['Wheat', 'Groundnuts', 'Garden Flowers', 'Maize', 'Paddy',\n",
       "       'Potato', 'Pulse', 'Sugarcane', 'Coffee'], dtype=object)"
      ]
     },
     "execution_count": 186,
     "metadata": {},
     "output_type": "execute_result"
    }
   ],
   "source": [
    "crops = df_irrigation[df_irrigation.columns[0]].unique()\n",
    "crops"
   ]
  },
  {
   "cell_type": "code",
   "execution_count": 187,
   "id": "bd0019f0-0888-4847-9ab1-8fa26be0372c",
   "metadata": {},
   "outputs": [
    {
     "data": {
      "text/plain": [
       "<Axes: xlabel='CropType'>"
      ]
     },
     "execution_count": 187,
     "metadata": {},
     "output_type": "execute_result"
    },
    {
     "data": {
      "image/png": "[encoded data removed]",
      "text/plain": [
       "<Figure size 640x480 with 1 Axes>"
      ]
     },
     "metadata": {},
     "output_type": "display_data"
    }
   ],
   "source": [
    "import matplotlib.pyplot as plt\n",
    "df_irrigation[df_irrigation.columns[0]].value_counts().plot(kind = \"bar\")"
   ]
  },
  {
   "cell_type": "code",
   "execution_count": 188,
   "id": "41aa1996-f2d7-4040-9798-c0e31fb6df70",
   "metadata": {},
   "outputs": [
    {
     "data": {
      "text/plain": [
       "CropType\n",
       "Sugarcane         102\n",
       "Wheat              78\n",
       "Potato             59\n",
       "Paddy              51\n",
       "Coffee             51\n",
       "Groundnuts         50\n",
       "Garden Flowers     47\n",
       "Maize              45\n",
       "Pulse              18\n",
       "Name: count, dtype: int64"
      ]
     },
     "execution_count": 188,
     "metadata": {},
     "output_type": "execute_result"
    }
   ],
   "source": [
    "df_irrigation[df_irrigation.columns[0]].value_counts()"
   ]
  },
  {
   "cell_type": "code",
   "execution_count": 189,
   "id": "5b940fdc-97d6-48ec-99e0-4c9dade5086d",
   "metadata": {},
   "outputs": [
    {
     "data": {
      "text/plain": [
       "CropDays         0.889895\n",
       "SoilMoisture     0.584956\n",
       "temperature     15.328583\n",
       "Humidity         0.417781\n",
       "Irrigation       0.438548\n",
       "dtype: float64"
      ]
     },
     "execution_count": 189,
     "metadata": {},
     "output_type": "execute_result"
    }
   ],
   "source": [
    "df_irrigation.iloc[:,1:].skew()"
   ]
  },
  {
   "cell_type": "code",
   "execution_count": 190,
   "id": "5ac3e8ca-a093-45f0-a6ac-534200c89dfb",
   "metadata": {},
   "outputs": [],
   "source": [
    "import seaborn as sns\n",
    "def plot_skewness(df):\n",
    "    n_cols = df.shape[1]\n",
    "    fig, axes = plt.subplots(n_cols, 2, figsize=(12, 4 * n_cols))\n",
    "    \n",
    "    if n_cols == 1:\n",
    "        axes = [axes]\n",
    "\n",
    "    for i, column in enumerate(df.columns):\n",
    "        skewness = df[column].skew()\n",
    "        sns.histplot(df[column], kde=True, ax=axes[i])\n",
    "        axes[i].set_title(f'Distribution of {column} (Skewness: {skewness:.2f})')\n",
    "        axes[i].set_xlabel(column)\n",
    "        axes[i].set_ylabel('Frequency')\n",
    "\n",
    "    plt.tight_layout()\n",
    "    plt.show()"
   ]
  },
  {
   "cell_type": "code",
   "execution_count": 191,
   "id": "f05b8408-31ed-4f78-9f7d-1057241911c2",
   "metadata": {},
   "outputs": [
    {
     "data": {
      "text/plain": [
       "<Axes: >"
      ]
     },
     "execution_count": 191,
     "metadata": {},
     "output_type": "execute_result"
    },
    {
     "data": {
      "image/png": "[encoded data removed]",
      "text/plain": [
       "<Figure size 640x480 with 1 Axes>"
      ]
     },
     "metadata": {},
     "output_type": "display_data"
    }
   ],
   "source": [
    "from plotly.subplots import make_subplots\n",
    "fig = make_subplots(rows=2, cols=3)\n",
    "df_irrigation[df_irrigation.columns[3]].plot(kind = \"box\")"
   ]
  },
  {
   "cell_type": "code",
   "execution_count": 192,
   "id": "a74a612a-d6d5-4ff9-b091-1fcc5fb034f0",
   "metadata": {},
   "outputs": [],
   "source": [
    "df_irrigation = df_irrigation.drop(df_irrigation[df_irrigation[df_irrigation.columns[3]]>= 50].index)"
   ]
  },
  {
   "cell_type": "code",
   "execution_count": 193,
   "id": "d2b2dc91-67e2-41aa-8e0a-df757eb0635f",
   "metadata": {},
   "outputs": [
    {
     "data": {
      "text/plain": [
       "CropDays        0.893818\n",
       "SoilMoisture    0.581999\n",
       "temperature     0.537771\n",
       "Humidity        0.415490\n",
       "Irrigation      0.435168\n",
       "dtype: float64"
      ]
     },
     "execution_count": 193,
     "metadata": {},
     "output_type": "execute_result"
    }
   ],
   "source": [
    "df_irrigation.iloc[:,1:].skew()"
   ]
  },
  {
   "cell_type": "code",
   "execution_count": 194,
   "id": "5a90e0b0-73e0-43b2-9671-8c1dd443b854",
   "metadata": {},
   "outputs": [
    {
     "data": {
      "text/plain": [
       "<Axes: >"
      ]
     },
     "execution_count": 194,
     "metadata": {},
     "output_type": "execute_result"
    },
    {
     "data": {
      "image/png": "[encoded data removed]",
      "text/plain": [
       "<Figure size 640x480 with 1 Axes>"
      ]
     },
     "metadata": {},
     "output_type": "display_data"
    }
   ],
   "source": [
    "df_irrigation[df_irrigation.columns[1]].plot(kind = \"box\")"
   ]
  },
  {
   "cell_type": "code",
   "execution_count": 195,
   "id": "d9cea5f2-5c77-4a8e-84e7-edccd5bb7391",
   "metadata": {},
   "outputs": [
    {
     "name": "stdout",
     "output_type": "stream",
     "text": [
      "11\n",
      "Lower Bound: -67.5\n",
      "Upper Bound: 184.5\n",
      "Outliers:\n",
      "Index([439, 440, 441, 442, 443, 444, 445, 446, 447, 448, 449], dtype='int64')\n"
     ]
    }
   ],
   "source": [
    "# Calculate Q1 (25th percentile) and Q3 (75th percentile)\n",
    "Q1 = df_irrigation['CropDays'].quantile(0.25)\n",
    "Q3 = df_irrigation['CropDays'].quantile(0.75)\n",
    "IQR = Q3 - Q1\n",
    "\n",
    "# Calculate the lower and upper bound\n",
    "lower_bound = Q1 - 1.5 * IQR\n",
    "upper_bound = Q3 + 1.5 * IQR\n",
    "\n",
    "# Identify outliers\n",
    "outliers = df_irrigation[(df_irrigation['CropDays'] < lower_bound) | (df_irrigation['CropDays'] > upper_bound)].index\n",
    "print(len(outliers))\n",
    "print(f\"Lower Bound: {lower_bound}\")\n",
    "print(f\"Upper Bound: {upper_bound}\")\n",
    "print(f\"Outliers:\\n{outliers}\")"
   ]
  },
  {
   "cell_type": "code",
   "execution_count": 196,
   "id": "5bff0b2a-4eaa-453b-8b22-d5445291b179",
   "metadata": {},
   "outputs": [],
   "source": [
    "df_irrigation = df_irrigation.drop(outliers)"
   ]
  },
  {
   "cell_type": "code",
   "execution_count": 197,
   "id": "d3dca8b7-baed-42fc-bcd7-d9ed8bc3bc4b",
   "metadata": {},
   "outputs": [
    {
     "data": {
      "text/plain": [
       "numpy.int64"
      ]
     },
     "execution_count": 197,
     "metadata": {},
     "output_type": "execute_result"
    }
   ],
   "source": [
    "type(df_irrigation[\"CropDays\"][0])"
   ]
  },
  {
   "cell_type": "code",
   "execution_count": 198,
   "id": "1b0f64a6-4b2a-462f-a4d7-6040c8496058",
   "metadata": {},
   "outputs": [
    {
     "data": {
      "text/plain": [
       "CropDays        0.673276\n",
       "SoilMoisture    0.581928\n",
       "temperature     0.526933\n",
       "Humidity        0.379311\n",
       "Irrigation      0.423492\n",
       "dtype: float64"
      ]
     },
     "execution_count": 198,
     "metadata": {},
     "output_type": "execute_result"
    }
   ],
   "source": [
    "df_irrigation.iloc[:,1:].skew()"
   ]
  },
  {
   "cell_type": "code",
   "execution_count": 199,
   "id": "1e8f2f0d-16cb-4862-b9cc-fb637d188e5b",
   "metadata": {},
   "outputs": [
    {
     "data": {
      "text/plain": [
       "<Axes: >"
      ]
     },
     "execution_count": 199,
     "metadata": {},
     "output_type": "execute_result"
    },
    {
     "data": {
      "image/png": "[encoded data removed]",
      "text/plain": [
       "<Figure size 640x480 with 1 Axes>"
      ]
     },
     "metadata": {},
     "output_type": "display_data"
    }
   ],
   "source": [
    "df_irrigation[df_irrigation.columns[1]].plot(kind = \"box\")"
   ]
  },
  {
   "cell_type": "code",
   "execution_count": 200,
   "id": "4a92acb5-2676-4d7e-a02f-ba2f1d5d0884",
   "metadata": {},
   "outputs": [
    {
     "data": {
      "text/html": [
       "<div>\n",
       "<style scoped>\n",
       "    .dataframe tbody tr th:only-of-type {\n",
       "        vertical-align: middle;\n",
       "    }\n",
       "\n",
       "    .dataframe tbody tr th {\n",
       "        vertical-align: top;\n",
       "    }\n",
       "\n",
       "    .dataframe thead th {\n",
       "        text-align: right;\n",
       "    }\n",
       "</style>\n",
       "<table border=\"1\" class=\"dataframe\">\n",
       "  <thead>\n",
       "    <tr style=\"text-align: right;\">\n",
       "      <th></th>\n",
       "      <th>CropDays</th>\n",
       "      <th>SoilMoisture</th>\n",
       "      <th>temperature</th>\n",
       "      <th>Humidity</th>\n",
       "      <th>Irrigation</th>\n",
       "    </tr>\n",
       "  </thead>\n",
       "  <tbody>\n",
       "    <tr>\n",
       "      <th>count</th>\n",
       "      <td>489.000000</td>\n",
       "      <td>489.000000</td>\n",
       "      <td>489.000000</td>\n",
       "      <td>489.000000</td>\n",
       "      <td>489.000000</td>\n",
       "    </tr>\n",
       "    <tr>\n",
       "      <th>mean</th>\n",
       "      <td>60.963190</td>\n",
       "      <td>412.237219</td>\n",
       "      <td>24.241309</td>\n",
       "      <td>39.797546</td>\n",
       "      <td>0.396728</td>\n",
       "    </tr>\n",
       "    <tr>\n",
       "      <th>std</th>\n",
       "      <td>41.726896</td>\n",
       "      <td>198.908798</td>\n",
       "      <td>5.772235</td>\n",
       "      <td>22.725507</td>\n",
       "      <td>0.489720</td>\n",
       "    </tr>\n",
       "    <tr>\n",
       "      <th>min</th>\n",
       "      <td>1.000000</td>\n",
       "      <td>120.000000</td>\n",
       "      <td>14.000000</td>\n",
       "      <td>11.000000</td>\n",
       "      <td>0.000000</td>\n",
       "    </tr>\n",
       "    <tr>\n",
       "      <th>25%</th>\n",
       "      <td>27.000000</td>\n",
       "      <td>230.000000</td>\n",
       "      <td>19.000000</td>\n",
       "      <td>19.000000</td>\n",
       "      <td>0.000000</td>\n",
       "    </tr>\n",
       "    <tr>\n",
       "      <th>50%</th>\n",
       "      <td>56.000000</td>\n",
       "      <td>370.000000</td>\n",
       "      <td>24.000000</td>\n",
       "      <td>33.000000</td>\n",
       "      <td>0.000000</td>\n",
       "    </tr>\n",
       "    <tr>\n",
       "      <th>75%</th>\n",
       "      <td>88.000000</td>\n",
       "      <td>554.000000</td>\n",
       "      <td>29.000000</td>\n",
       "      <td>65.000000</td>\n",
       "      <td>1.000000</td>\n",
       "    </tr>\n",
       "    <tr>\n",
       "      <th>max</th>\n",
       "      <td>184.000000</td>\n",
       "      <td>990.000000</td>\n",
       "      <td>42.000000</td>\n",
       "      <td>85.000000</td>\n",
       "      <td>1.000000</td>\n",
       "    </tr>\n",
       "  </tbody>\n",
       "</table>\n",
       "</div>"
      ],
      "text/plain": [
       "         CropDays  SoilMoisture  temperature    Humidity  Irrigation\n",
       "count  489.000000    489.000000   489.000000  489.000000  489.000000\n",
       "mean    60.963190    412.237219    24.241309   39.797546    0.396728\n",
       "std     41.726896    198.908798     5.772235   22.725507    0.489720\n",
       "min      1.000000    120.000000    14.000000   11.000000    0.000000\n",
       "25%     27.000000    230.000000    19.000000   19.000000    0.000000\n",
       "50%     56.000000    370.000000    24.000000   33.000000    0.000000\n",
       "75%     88.000000    554.000000    29.000000   65.000000    1.000000\n",
       "max    184.000000    990.000000    42.000000   85.000000    1.000000"
      ]
     },
     "execution_count": 200,
     "metadata": {},
     "output_type": "execute_result"
    }
   ],
   "source": [
    "df_irrigation.describe()"
   ]
  },
  {
   "cell_type": "code",
   "execution_count": 201,
   "id": "aaa89fb1-6643-4803-bedd-8a22c900936a",
   "metadata": {},
   "outputs": [
    {
     "data": {
      "text/plain": [
       "CropDays        0.673276\n",
       "SoilMoisture    0.191339\n",
       "temperature     0.076104\n",
       "Humidity        0.016342\n",
       "Irrigation      0.423492\n",
       "dtype: float64"
      ]
     },
     "execution_count": 201,
     "metadata": {},
     "output_type": "execute_result"
    }
   ],
   "source": [
    "import numpy as np \n",
    "numeric_columns = ['SoilMoisture', 'temperature', 'Humidity']\n",
    "df_irrigation[numeric_columns[1:]] = df_irrigation[numeric_columns[1:]].apply(lambda x: np.log1p(x))\n",
    "df_irrigation[numeric_columns[:1]] = df_irrigation[numeric_columns[:1]].apply(lambda x: np.sqrt(x))\n",
    "df_irrigation.iloc[:,1:].skew()"
   ]
  },
  {
   "cell_type": "code",
   "execution_count": 202,
   "id": "9bc83bee-6150-494e-8d50-b34902cc11be",
   "metadata": {},
   "outputs": [
    {
     "name": "stdout",
     "output_type": "stream",
     "text": [
      "Irrigation\n",
      "0    295\n",
      "1    194\n",
      "Name: count, dtype: int64\n"
     ]
    },
    {
     "data": {
      "text/plain": [
       "<Axes: xlabel='Irrigation'>"
      ]
     },
     "execution_count": 202,
     "metadata": {},
     "output_type": "execute_result"
    },
    {
     "data": {
      "image/png": "[encoded data removed]",
      "text/plain": [
       "<Figure size 640x480 with 1 Axes>"
      ]
     },
     "metadata": {},
     "output_type": "display_data"
    }
   ],
   "source": [
    "print(df_irrigation['Irrigation'].value_counts())\n",
    "df_irrigation['Irrigation'].value_counts().plot(kind = 'bar')"
   ]
  },
  {
   "cell_type": "code",
   "execution_count": 203,
   "id": "af803aab-700f-4a45-8a96-38b9a71b1bfd",
   "metadata": {},
   "outputs": [
    {
     "data": {
      "text/plain": [
       "{'Coffee': 0,\n",
       " 'Garden Flowers': 1,\n",
       " 'Groundnuts': 2,\n",
       " 'Maize': 3,\n",
       " 'Paddy': 4,\n",
       " 'Potato': 5,\n",
       " 'Pulse': 6,\n",
       " 'Sugarcane': 7,\n",
       " 'Wheat': 8}"
      ]
     },
     "execution_count": 203,
     "metadata": {},
     "output_type": "execute_result"
    }
   ],
   "source": [
    "crop_to_numerical = {crop : indx for indx , crop in enumerate(sorted(df_irrigation['CropType'].unique()))}\n",
    "crop_to_numerical"
   ]
  },
  {
   "cell_type": "code",
   "execution_count": 204,
   "id": "9e755fc2-4b9b-4eab-8d9d-a5598f792a3d",
   "metadata": {},
   "outputs": [],
   "source": [
    "df_irrigation['CropType'] = df_irrigation['CropType'].replace(crop_to_numerical)"
   ]
  },
  {
   "cell_type": "code",
   "execution_count": 205,
   "id": "c78fdba7-79d2-45fb-88f9-d2511247b71a",
   "metadata": {},
   "outputs": [
    {
     "data": {
      "text/html": [
       "<div>\n",
       "<style scoped>\n",
       "    .dataframe tbody tr th:only-of-type {\n",
       "        vertical-align: middle;\n",
       "    }\n",
       "\n",
       "    .dataframe tbody tr th {\n",
       "        vertical-align: top;\n",
       "    }\n",
       "\n",
       "    .dataframe thead th {\n",
       "        text-align: right;\n",
       "    }\n",
       "</style>\n",
       "<table border=\"1\" class=\"dataframe\">\n",
       "  <thead>\n",
       "    <tr style=\"text-align: right;\">\n",
       "      <th></th>\n",
       "      <th>CropType</th>\n",
       "      <th>CropDays</th>\n",
       "      <th>SoilMoisture</th>\n",
       "      <th>temperature</th>\n",
       "      <th>Humidity</th>\n",
       "      <th>Irrigation</th>\n",
       "    </tr>\n",
       "  </thead>\n",
       "  <tbody>\n",
       "    <tr>\n",
       "      <th>0</th>\n",
       "      <td>8</td>\n",
       "      <td>10</td>\n",
       "      <td>20.000000</td>\n",
       "      <td>3.433987</td>\n",
       "      <td>2.772589</td>\n",
       "      <td>0</td>\n",
       "    </tr>\n",
       "    <tr>\n",
       "      <th>1</th>\n",
       "      <td>8</td>\n",
       "      <td>7</td>\n",
       "      <td>14.142136</td>\n",
       "      <td>3.433987</td>\n",
       "      <td>3.496508</td>\n",
       "      <td>0</td>\n",
       "    </tr>\n",
       "    <tr>\n",
       "      <th>2</th>\n",
       "      <td>8</td>\n",
       "      <td>9</td>\n",
       "      <td>17.320508</td>\n",
       "      <td>3.091042</td>\n",
       "      <td>3.367296</td>\n",
       "      <td>0</td>\n",
       "    </tr>\n",
       "    <tr>\n",
       "      <th>3</th>\n",
       "      <td>8</td>\n",
       "      <td>3</td>\n",
       "      <td>22.360680</td>\n",
       "      <td>3.713572</td>\n",
       "      <td>3.135494</td>\n",
       "      <td>0</td>\n",
       "    </tr>\n",
       "    <tr>\n",
       "      <th>4</th>\n",
       "      <td>8</td>\n",
       "      <td>2</td>\n",
       "      <td>26.457513</td>\n",
       "      <td>3.178054</td>\n",
       "      <td>3.555348</td>\n",
       "      <td>0</td>\n",
       "    </tr>\n",
       "    <tr>\n",
       "      <th>...</th>\n",
       "      <td>...</td>\n",
       "      <td>...</td>\n",
       "      <td>...</td>\n",
       "      <td>...</td>\n",
       "      <td>...</td>\n",
       "      <td>...</td>\n",
       "    </tr>\n",
       "    <tr>\n",
       "      <th>496</th>\n",
       "      <td>0</td>\n",
       "      <td>93</td>\n",
       "      <td>25.980762</td>\n",
       "      <td>3.258097</td>\n",
       "      <td>2.995732</td>\n",
       "      <td>1</td>\n",
       "    </tr>\n",
       "    <tr>\n",
       "      <th>497</th>\n",
       "      <td>0</td>\n",
       "      <td>95</td>\n",
       "      <td>14.491377</td>\n",
       "      <td>3.178054</td>\n",
       "      <td>2.890372</td>\n",
       "      <td>0</td>\n",
       "    </tr>\n",
       "    <tr>\n",
       "      <th>498</th>\n",
       "      <td>0</td>\n",
       "      <td>97</td>\n",
       "      <td>19.949937</td>\n",
       "      <td>3.258097</td>\n",
       "      <td>2.944439</td>\n",
       "      <td>0</td>\n",
       "    </tr>\n",
       "    <tr>\n",
       "      <th>499</th>\n",
       "      <td>0</td>\n",
       "      <td>99</td>\n",
       "      <td>26.038433</td>\n",
       "      <td>3.218876</td>\n",
       "      <td>2.944439</td>\n",
       "      <td>1</td>\n",
       "    </tr>\n",
       "    <tr>\n",
       "      <th>500</th>\n",
       "      <td>0</td>\n",
       "      <td>101</td>\n",
       "      <td>14.177447</td>\n",
       "      <td>3.091042</td>\n",
       "      <td>2.708050</td>\n",
       "      <td>0</td>\n",
       "    </tr>\n",
       "  </tbody>\n",
       "</table>\n",
       "<p>489 rows × 6 columns</p>\n",
       "</div>"
      ],
      "text/plain": [
       "     CropType  CropDays  SoilMoisture  temperature  Humidity  Irrigation\n",
       "0           8        10     20.000000     3.433987  2.772589           0\n",
       "1           8         7     14.142136     3.433987  3.496508           0\n",
       "2           8         9     17.320508     3.091042  3.367296           0\n",
       "3           8         3     22.360680     3.713572  3.135494           0\n",
       "4           8         2     26.457513     3.178054  3.555348           0\n",
       "..        ...       ...           ...          ...       ...         ...\n",
       "496         0        93     25.980762     3.258097  2.995732           1\n",
       "497         0        95     14.491377     3.178054  2.890372           0\n",
       "498         0        97     19.949937     3.258097  2.944439           0\n",
       "499         0        99     26.038433     3.218876  2.944439           1\n",
       "500         0       101     14.177447     3.091042  2.708050           0\n",
       "\n",
       "[489 rows x 6 columns]"
      ]
     },
     "execution_count": 205,
     "metadata": {},
     "output_type": "execute_result"
    }
   ],
   "source": [
    "df_irrigation"
   ]
  },
  {
   "cell_type": "code",
   "execution_count": 206,
   "id": "2607f2fc-dc70-49a9-bea9-cf601b1f3d5d",
   "metadata": {},
   "outputs": [
    {
     "data": {
      "image/png": "[encoded data removed]",
      "text/plain": [
       "<Figure size 640x480 with 1 Axes>"
      ]
     },
     "metadata": {},
     "output_type": "display_data"
    }
   ],
   "source": [
    "from imblearn.over_sampling import SMOTE\n",
    "from sklearn.model_selection import train_test_split\n",
    "X = df_irrigation.drop(columns=['Irrigation'])\n",
    "y = df_irrigation['Irrigation']\n",
    "\n",
    "X_train, X_test, y_train, y_test = train_test_split(X, y, test_size=0.2, random_state=42)\n",
    "\n",
    "\n",
    "smote = SMOTE(random_state=42)\n",
    "X_train_smote, y_train_smote = smote.fit_resample(X_train, y_train)\n",
    "\n",
    "y_train_smote.value_counts().plot(kind='bar')\n",
    "plt.title('Class Distribution after SMOTE')\n",
    "plt.xlabel('Irrigation')\n",
    "plt.ylabel('Frequency')\n",
    "plt.show()"
   ]
  },
  {
   "cell_type": "code",
   "execution_count": 207,
   "id": "b84bfa2d-3e8e-46a2-8897-bb158b7cd4f2",
   "metadata": {},
   "outputs": [
    {
     "name": "stdout",
     "output_type": "stream",
     "text": [
      "Irrigation\n",
      "0    60\n",
      "1    38\n",
      "Name: count, dtype: int64\n"
     ]
    }
   ],
   "source": [
    "print( y_test.value_counts())"
   ]
  },
  {
   "cell_type": "code",
   "execution_count": 208,
   "id": "4ff40812-767c-40bf-8f0f-740d5733e755",
   "metadata": {},
   "outputs": [
    {
     "name": "stdout",
     "output_type": "stream",
     "text": [
      "Training Set Performance:\n",
      "Accuracy: 1.0\n",
      "Confusion Matrix:\n",
      " [[235   0]\n",
      " [  0 235]]\n",
      "Classification Report:\n",
      "               precision    recall  f1-score   support\n",
      "\n",
      "           0       1.00      1.00      1.00       235\n",
      "           1       1.00      1.00      1.00       235\n",
      "\n",
      "    accuracy                           1.00       470\n",
      "   macro avg       1.00      1.00      1.00       470\n",
      "weighted avg       1.00      1.00      1.00       470\n",
      "\n",
      "Test Set Performance:\n",
      "Accuracy: 0.9081632653061225\n",
      "Confusion Matrix:\n",
      " [[53  7]\n",
      " [ 2 36]]\n",
      "Classification Report:\n",
      "               precision    recall  f1-score   support\n",
      "\n",
      "           0       0.96      0.88      0.92        60\n",
      "           1       0.84      0.95      0.89        38\n",
      "\n",
      "    accuracy                           0.91        98\n",
      "   macro avg       0.90      0.92      0.91        98\n",
      "weighted avg       0.91      0.91      0.91        98\n",
      "\n"
     ]
    },
    {
     "data": {
      "image/png": "[encoded data removed]",
      "text/plain": [
       "<Figure size 640x480 with 2 Axes>"
      ]
     },
     "metadata": {},
     "output_type": "display_data"
    }
   ],
   "source": [
    "from sklearn.ensemble import RandomForestClassifier\n",
    "from sklearn.model_selection import train_test_split, GridSearchCV, cross_val_score\n",
    "from sklearn.metrics import accuracy_score, confusion_matrix, classification_report\n",
    "model = RandomForestClassifier(random_state=42)\n",
    "model.fit(X_train_smote, y_train_smote)\n",
    "\n",
    "y_pred_train = model.predict(X_train_smote)\n",
    "y_pred_test = model.predict(X_test)\n",
    "print('Training Set Performance:')\n",
    "print('Accuracy:', accuracy_score(y_train_smote, y_pred_train))\n",
    "print('Confusion Matrix:\\n', confusion_matrix(y_train_smote, y_pred_train))\n",
    "print('Classification Report:\\n', classification_report(y_train_smote, y_pred_train))\n",
    "\n",
    "print('Test Set Performance:')\n",
    "print('Accuracy:', accuracy_score(y_test, y_pred_test))\n",
    "print('Confusion Matrix:\\n', confusion_matrix(y_test, y_pred_test))\n",
    "print('Classification Report:\\n', classification_report(y_test, y_pred_test))\n",
    "\n",
    "\n",
    "cm = confusion_matrix(y_test, y_pred_test)\n",
    "sns.heatmap(cm, annot=True, fmt='d', cmap='Blues')\n",
    "plt.xlabel('Predicted')\n",
    "plt.ylabel('Actual')\n",
    "plt.title('Confusion Matrix')\n",
    "plt.show()"
   ]
  },
  {
   "cell_type": "code",
   "execution_count": 209,
   "id": "e9c61649-079d-4482-9309-1f9a27194626",
   "metadata": {},
   "outputs": [
    {
     "name": "stdout",
     "output_type": "stream",
     "text": [
      "Cross-Validation Scores: [0.93617021 0.90425532 0.89361702 0.94680851 0.9787234 ]\n",
      "Mean Cross-Validation Score: 0.9319148936170214\n"
     ]
    }
   ],
   "source": [
    "from sklearn.model_selection import cross_val_score\n",
    "\n",
    "# Perform cross-validation\n",
    "cv_scores = cross_val_score(model, X_train_smote,y_train_smote, cv=5)\n",
    "print('Cross-Validation Scores:', cv_scores)\n",
    "print('Mean Cross-Validation Score:', cv_scores.mean())"
   ]
  },
  {
   "cell_type": "code",
   "execution_count": 210,
   "id": "a48e8fce-4d95-4538-a5d3-c75caa4b29be",
   "metadata": {},
   "outputs": [],
   "source": [
    "# import pickle\n",
    "# with open('irrigation.pkl', 'wb') as file:\n",
    "#     pickle.dump(model, file)"
   ]
  },
  {
   "cell_type": "markdown",
   "id": "f51fb39c-3391-42b8-a7fc-9339717acfee",
   "metadata": {},
   "source": [
    "# Fertilizer"
   ]
  },
  {
   "cell_type": "code",
   "execution_count": 211,
   "id": "2a480f69-e880-49a5-ade8-9c0c96997c14",
   "metadata": {
    "scrolled": true
   },
   "outputs": [
    {
     "data": {
      "text/html": [
       "<div>\n",
       "<style scoped>\n",
       "    .dataframe tbody tr th:only-of-type {\n",
       "        vertical-align: middle;\n",
       "    }\n",
       "\n",
       "    .dataframe tbody tr th {\n",
       "        vertical-align: top;\n",
       "    }\n",
       "\n",
       "    .dataframe thead th {\n",
       "        text-align: right;\n",
       "    }\n",
       "</style>\n",
       "<table border=\"1\" class=\"dataframe\">\n",
       "  <thead>\n",
       "    <tr style=\"text-align: right;\">\n",
       "      <th></th>\n",
       "      <th>Temparature</th>\n",
       "      <th>Humidity</th>\n",
       "      <th>Moisture</th>\n",
       "      <th>Soil Type</th>\n",
       "      <th>Crop Type</th>\n",
       "      <th>Nitrogen</th>\n",
       "      <th>Potassium</th>\n",
       "      <th>Phosphorous</th>\n",
       "      <th>Fertilizer Name</th>\n",
       "    </tr>\n",
       "  </thead>\n",
       "  <tbody>\n",
       "    <tr>\n",
       "      <th>0</th>\n",
       "      <td>26</td>\n",
       "      <td>52</td>\n",
       "      <td>38</td>\n",
       "      <td>Sandy</td>\n",
       "      <td>Maize</td>\n",
       "      <td>37</td>\n",
       "      <td>0</td>\n",
       "      <td>0</td>\n",
       "      <td>Urea</td>\n",
       "    </tr>\n",
       "    <tr>\n",
       "      <th>1</th>\n",
       "      <td>29</td>\n",
       "      <td>52</td>\n",
       "      <td>45</td>\n",
       "      <td>Loamy</td>\n",
       "      <td>Sugarcane</td>\n",
       "      <td>12</td>\n",
       "      <td>0</td>\n",
       "      <td>36</td>\n",
       "      <td>DAP</td>\n",
       "    </tr>\n",
       "    <tr>\n",
       "      <th>2</th>\n",
       "      <td>34</td>\n",
       "      <td>65</td>\n",
       "      <td>62</td>\n",
       "      <td>Black</td>\n",
       "      <td>Cotton</td>\n",
       "      <td>7</td>\n",
       "      <td>9</td>\n",
       "      <td>30</td>\n",
       "      <td>14-35-14</td>\n",
       "    </tr>\n",
       "    <tr>\n",
       "      <th>3</th>\n",
       "      <td>32</td>\n",
       "      <td>62</td>\n",
       "      <td>34</td>\n",
       "      <td>Red</td>\n",
       "      <td>Tobacco</td>\n",
       "      <td>22</td>\n",
       "      <td>0</td>\n",
       "      <td>20</td>\n",
       "      <td>28-28</td>\n",
       "    </tr>\n",
       "    <tr>\n",
       "      <th>4</th>\n",
       "      <td>28</td>\n",
       "      <td>54</td>\n",
       "      <td>46</td>\n",
       "      <td>Clayey</td>\n",
       "      <td>Paddy</td>\n",
       "      <td>35</td>\n",
       "      <td>0</td>\n",
       "      <td>0</td>\n",
       "      <td>Urea</td>\n",
       "    </tr>\n",
       "    <tr>\n",
       "      <th>...</th>\n",
       "      <td>...</td>\n",
       "      <td>...</td>\n",
       "      <td>...</td>\n",
       "      <td>...</td>\n",
       "      <td>...</td>\n",
       "      <td>...</td>\n",
       "      <td>...</td>\n",
       "      <td>...</td>\n",
       "      <td>...</td>\n",
       "    </tr>\n",
       "    <tr>\n",
       "      <th>94</th>\n",
       "      <td>25</td>\n",
       "      <td>50</td>\n",
       "      <td>32</td>\n",
       "      <td>Clayey</td>\n",
       "      <td>Pulses</td>\n",
       "      <td>24</td>\n",
       "      <td>0</td>\n",
       "      <td>19</td>\n",
       "      <td>28-28</td>\n",
       "    </tr>\n",
       "    <tr>\n",
       "      <th>95</th>\n",
       "      <td>30</td>\n",
       "      <td>60</td>\n",
       "      <td>27</td>\n",
       "      <td>Red</td>\n",
       "      <td>Tobacco</td>\n",
       "      <td>4</td>\n",
       "      <td>17</td>\n",
       "      <td>17</td>\n",
       "      <td>10-26-26</td>\n",
       "    </tr>\n",
       "    <tr>\n",
       "      <th>96</th>\n",
       "      <td>38</td>\n",
       "      <td>72</td>\n",
       "      <td>51</td>\n",
       "      <td>Loamy</td>\n",
       "      <td>Wheat</td>\n",
       "      <td>39</td>\n",
       "      <td>0</td>\n",
       "      <td>0</td>\n",
       "      <td>Urea</td>\n",
       "    </tr>\n",
       "    <tr>\n",
       "      <th>97</th>\n",
       "      <td>36</td>\n",
       "      <td>60</td>\n",
       "      <td>43</td>\n",
       "      <td>Sandy</td>\n",
       "      <td>Millets</td>\n",
       "      <td>15</td>\n",
       "      <td>0</td>\n",
       "      <td>41</td>\n",
       "      <td>DAP</td>\n",
       "    </tr>\n",
       "    <tr>\n",
       "      <th>98</th>\n",
       "      <td>29</td>\n",
       "      <td>58</td>\n",
       "      <td>57</td>\n",
       "      <td>Black</td>\n",
       "      <td>Sugarcane</td>\n",
       "      <td>12</td>\n",
       "      <td>0</td>\n",
       "      <td>10</td>\n",
       "      <td>20-20</td>\n",
       "    </tr>\n",
       "  </tbody>\n",
       "</table>\n",
       "<p>99 rows × 9 columns</p>\n",
       "</div>"
      ],
      "text/plain": [
       "    Temparature  Humidity   Moisture Soil Type  Crop Type  Nitrogen  \\\n",
       "0            26         52        38     Sandy      Maize        37   \n",
       "1            29         52        45     Loamy  Sugarcane        12   \n",
       "2            34         65        62     Black     Cotton         7   \n",
       "3            32         62        34       Red    Tobacco        22   \n",
       "4            28         54        46    Clayey      Paddy        35   \n",
       "..          ...        ...       ...       ...        ...       ...   \n",
       "94           25         50        32    Clayey     Pulses        24   \n",
       "95           30         60        27       Red    Tobacco         4   \n",
       "96           38         72        51     Loamy      Wheat        39   \n",
       "97           36         60        43     Sandy    Millets        15   \n",
       "98           29         58        57     Black  Sugarcane        12   \n",
       "\n",
       "    Potassium  Phosphorous Fertilizer Name  \n",
       "0           0            0            Urea  \n",
       "1           0           36             DAP  \n",
       "2           9           30        14-35-14  \n",
       "3           0           20           28-28  \n",
       "4           0            0            Urea  \n",
       "..        ...          ...             ...  \n",
       "94          0           19           28-28  \n",
       "95         17           17        10-26-26  \n",
       "96          0            0            Urea  \n",
       "97          0           41             DAP  \n",
       "98          0           10           20-20  \n",
       "\n",
       "[99 rows x 9 columns]"
      ]
     },
     "execution_count": 211,
     "metadata": {},
     "output_type": "execute_result"
    }
   ],
   "source": [
    "df_fertilizer"
   ]
  },
  {
   "cell_type": "code",
   "execution_count": 212,
   "id": "1793976d-14e8-49d7-b58f-df40ec6545c9",
   "metadata": {},
   "outputs": [
    {
     "data": {
      "text/plain": [
       "Index(['Temparature', 'Humidity ', 'Moisture', 'Soil Type', 'Crop Type',\n",
       "       'Nitrogen', 'Potassium', 'Phosphorous', 'Fertilizer Name'],\n",
       "      dtype='object')"
      ]
     },
     "execution_count": 212,
     "metadata": {},
     "output_type": "execute_result"
    }
   ],
   "source": [
    "df_fertilizer.columns"
   ]
  },
  {
   "cell_type": "code",
   "execution_count": 213,
   "id": "55aae0d8-3d3e-43a2-89df-15b9277721d4",
   "metadata": {},
   "outputs": [
    {
     "data": {
      "text/plain": [
       "Temparature  Humidity   Moisture  Soil Type  Crop Type    Nitrogen  Potassium  Phosphorous  Fertilizer Name\n",
       "25           50         26        Red        Ground Nuts  15        14         11           17-17-17           1\n",
       "33           64         51        Sandy      Maize        5         9          29           14-35-14           1\n",
       "                        39        Clayey     Paddy        13        0          10           20-20              1\n",
       "                        34        Clayey     Pulses       38        0          0            Urea               1\n",
       "                        31        Red        Ground Nuts  13        0          39           DAP                1\n",
       "                                                                                                              ..\n",
       "28           54         46        Clayey     Paddy        35        0          0            Urea               1\n",
       "                        43        Clayey     Paddy        10        8          29           14-35-14           1\n",
       "                        41        Clayey     Paddy        36        0          0            Urea               1\n",
       "                        38        Clayey     Pulses       40        0          0            Urea               1\n",
       "38           72         51        Loamy      Wheat        39        0          0            Urea               1\n",
       "Name: count, Length: 99, dtype: int64"
      ]
     },
     "execution_count": 213,
     "metadata": {},
     "output_type": "execute_result"
    }
   ],
   "source": [
    "df_fertilizer.value_counts()"
   ]
  },
  {
   "cell_type": "markdown",
   "id": "cfc00a4d-146b-48b0-b79f-e9c30debbe7c",
   "metadata": {},
   "source": [
    "# Fertility"
   ]
  },
  {
   "cell_type": "code",
   "execution_count": 214,
   "id": "41424817-8ae3-4eb5-9655-f8ecbb7a088d",
   "metadata": {},
   "outputs": [
    {
     "data": {
      "text/html": [
       "<div>\n",
       "<style scoped>\n",
       "    .dataframe tbody tr th:only-of-type {\n",
       "        vertical-align: middle;\n",
       "    }\n",
       "\n",
       "    .dataframe tbody tr th {\n",
       "        vertical-align: top;\n",
       "    }\n",
       "\n",
       "    .dataframe thead th {\n",
       "        text-align: right;\n",
       "    }\n",
       "</style>\n",
       "<table border=\"1\" class=\"dataframe\">\n",
       "  <thead>\n",
       "    <tr style=\"text-align: right;\">\n",
       "      <th></th>\n",
       "      <th>N</th>\n",
       "      <th>P</th>\n",
       "      <th>K</th>\n",
       "      <th>pH</th>\n",
       "      <th>EC</th>\n",
       "      <th>OC</th>\n",
       "      <th>S</th>\n",
       "      <th>Zn</th>\n",
       "      <th>Fe</th>\n",
       "      <th>Cu</th>\n",
       "      <th>Mn</th>\n",
       "      <th>B</th>\n",
       "      <th>Output</th>\n",
       "    </tr>\n",
       "  </thead>\n",
       "  <tbody>\n",
       "    <tr>\n",
       "      <th>0</th>\n",
       "      <td>138</td>\n",
       "      <td>8.6</td>\n",
       "      <td>560</td>\n",
       "      <td>7.46</td>\n",
       "      <td>0.62</td>\n",
       "      <td>0.70</td>\n",
       "      <td>5.90</td>\n",
       "      <td>0.24</td>\n",
       "      <td>0.31</td>\n",
       "      <td>0.77</td>\n",
       "      <td>8.71</td>\n",
       "      <td>0.11</td>\n",
       "      <td>0</td>\n",
       "    </tr>\n",
       "    <tr>\n",
       "      <th>1</th>\n",
       "      <td>213</td>\n",
       "      <td>7.5</td>\n",
       "      <td>338</td>\n",
       "      <td>7.62</td>\n",
       "      <td>0.75</td>\n",
       "      <td>1.06</td>\n",
       "      <td>25.40</td>\n",
       "      <td>0.30</td>\n",
       "      <td>0.86</td>\n",
       "      <td>1.54</td>\n",
       "      <td>2.89</td>\n",
       "      <td>2.29</td>\n",
       "      <td>0</td>\n",
       "    </tr>\n",
       "    <tr>\n",
       "      <th>2</th>\n",
       "      <td>163</td>\n",
       "      <td>9.6</td>\n",
       "      <td>718</td>\n",
       "      <td>7.59</td>\n",
       "      <td>0.51</td>\n",
       "      <td>1.11</td>\n",
       "      <td>14.30</td>\n",
       "      <td>0.30</td>\n",
       "      <td>0.86</td>\n",
       "      <td>1.57</td>\n",
       "      <td>2.70</td>\n",
       "      <td>2.03</td>\n",
       "      <td>0</td>\n",
       "    </tr>\n",
       "    <tr>\n",
       "      <th>3</th>\n",
       "      <td>157</td>\n",
       "      <td>6.8</td>\n",
       "      <td>475</td>\n",
       "      <td>7.64</td>\n",
       "      <td>0.58</td>\n",
       "      <td>0.94</td>\n",
       "      <td>26.00</td>\n",
       "      <td>0.34</td>\n",
       "      <td>0.54</td>\n",
       "      <td>1.53</td>\n",
       "      <td>2.65</td>\n",
       "      <td>1.82</td>\n",
       "      <td>0</td>\n",
       "    </tr>\n",
       "    <tr>\n",
       "      <th>4</th>\n",
       "      <td>270</td>\n",
       "      <td>9.9</td>\n",
       "      <td>444</td>\n",
       "      <td>7.63</td>\n",
       "      <td>0.40</td>\n",
       "      <td>0.86</td>\n",
       "      <td>11.80</td>\n",
       "      <td>0.25</td>\n",
       "      <td>0.76</td>\n",
       "      <td>1.69</td>\n",
       "      <td>2.43</td>\n",
       "      <td>2.26</td>\n",
       "      <td>1</td>\n",
       "    </tr>\n",
       "    <tr>\n",
       "      <th>...</th>\n",
       "      <td>...</td>\n",
       "      <td>...</td>\n",
       "      <td>...</td>\n",
       "      <td>...</td>\n",
       "      <td>...</td>\n",
       "      <td>...</td>\n",
       "      <td>...</td>\n",
       "      <td>...</td>\n",
       "      <td>...</td>\n",
       "      <td>...</td>\n",
       "      <td>...</td>\n",
       "      <td>...</td>\n",
       "      <td>...</td>\n",
       "    </tr>\n",
       "    <tr>\n",
       "      <th>875</th>\n",
       "      <td>351</td>\n",
       "      <td>10.7</td>\n",
       "      <td>623</td>\n",
       "      <td>7.96</td>\n",
       "      <td>0.51</td>\n",
       "      <td>0.29</td>\n",
       "      <td>7.24</td>\n",
       "      <td>0.36</td>\n",
       "      <td>4.69</td>\n",
       "      <td>0.69</td>\n",
       "      <td>11.03</td>\n",
       "      <td>0.69</td>\n",
       "      <td>1</td>\n",
       "    </tr>\n",
       "    <tr>\n",
       "      <th>876</th>\n",
       "      <td>264</td>\n",
       "      <td>9.0</td>\n",
       "      <td>486</td>\n",
       "      <td>7.24</td>\n",
       "      <td>0.47</td>\n",
       "      <td>0.10</td>\n",
       "      <td>3.92</td>\n",
       "      <td>0.35</td>\n",
       "      <td>8.26</td>\n",
       "      <td>0.45</td>\n",
       "      <td>7.98</td>\n",
       "      <td>0.40</td>\n",
       "      <td>1</td>\n",
       "    </tr>\n",
       "    <tr>\n",
       "      <th>877</th>\n",
       "      <td>276</td>\n",
       "      <td>9.2</td>\n",
       "      <td>370</td>\n",
       "      <td>7.62</td>\n",
       "      <td>0.62</td>\n",
       "      <td>0.49</td>\n",
       "      <td>6.64</td>\n",
       "      <td>0.42</td>\n",
       "      <td>3.57</td>\n",
       "      <td>0.63</td>\n",
       "      <td>6.48</td>\n",
       "      <td>0.32</td>\n",
       "      <td>1</td>\n",
       "    </tr>\n",
       "    <tr>\n",
       "      <th>878</th>\n",
       "      <td>320</td>\n",
       "      <td>13.8</td>\n",
       "      <td>391</td>\n",
       "      <td>7.38</td>\n",
       "      <td>0.65</td>\n",
       "      <td>1.07</td>\n",
       "      <td>5.43</td>\n",
       "      <td>0.58</td>\n",
       "      <td>4.58</td>\n",
       "      <td>1.02</td>\n",
       "      <td>13.25</td>\n",
       "      <td>0.53</td>\n",
       "      <td>2</td>\n",
       "    </tr>\n",
       "    <tr>\n",
       "      <th>879</th>\n",
       "      <td>264</td>\n",
       "      <td>10.3</td>\n",
       "      <td>475</td>\n",
       "      <td>7.49</td>\n",
       "      <td>0.74</td>\n",
       "      <td>0.88</td>\n",
       "      <td>10.56</td>\n",
       "      <td>0.45</td>\n",
       "      <td>7.36</td>\n",
       "      <td>1.87</td>\n",
       "      <td>10.63</td>\n",
       "      <td>0.63</td>\n",
       "      <td>0</td>\n",
       "    </tr>\n",
       "  </tbody>\n",
       "</table>\n",
       "<p>880 rows × 13 columns</p>\n",
       "</div>"
      ],
      "text/plain": [
       "       N     P    K    pH    EC    OC      S    Zn    Fe    Cu     Mn     B  \\\n",
       "0    138   8.6  560  7.46  0.62  0.70   5.90  0.24  0.31  0.77   8.71  0.11   \n",
       "1    213   7.5  338  7.62  0.75  1.06  25.40  0.30  0.86  1.54   2.89  2.29   \n",
       "2    163   9.6  718  7.59  0.51  1.11  14.30  0.30  0.86  1.57   2.70  2.03   \n",
       "3    157   6.8  475  7.64  0.58  0.94  26.00  0.34  0.54  1.53   2.65  1.82   \n",
       "4    270   9.9  444  7.63  0.40  0.86  11.80  0.25  0.76  1.69   2.43  2.26   \n",
       "..   ...   ...  ...   ...   ...   ...    ...   ...   ...   ...    ...   ...   \n",
       "875  351  10.7  623  7.96  0.51  0.29   7.24  0.36  4.69  0.69  11.03  0.69   \n",
       "876  264   9.0  486  7.24  0.47  0.10   3.92  0.35  8.26  0.45   7.98  0.40   \n",
       "877  276   9.2  370  7.62  0.62  0.49   6.64  0.42  3.57  0.63   6.48  0.32   \n",
       "878  320  13.8  391  7.38  0.65  1.07   5.43  0.58  4.58  1.02  13.25  0.53   \n",
       "879  264  10.3  475  7.49  0.74  0.88  10.56  0.45  7.36  1.87  10.63  0.63   \n",
       "\n",
       "     Output  \n",
       "0         0  \n",
       "1         0  \n",
       "2         0  \n",
       "3         0  \n",
       "4         1  \n",
       "..      ...  \n",
       "875       1  \n",
       "876       1  \n",
       "877       1  \n",
       "878       2  \n",
       "879       0  \n",
       "\n",
       "[880 rows x 13 columns]"
      ]
     },
     "execution_count": 214,
     "metadata": {},
     "output_type": "execute_result"
    }
   ],
   "source": [
    "df_fertility"
   ]
  },
  {
   "cell_type": "code",
   "execution_count": 215,
   "id": "3c321480-0446-4f78-b099-a3f2120a2d4d",
   "metadata": {},
   "outputs": [
    {
     "data": {
      "text/plain": [
       "Index(['N', 'P', 'K', 'pH', 'EC', 'OC', 'S', 'Zn', 'Fe', 'Cu', 'Mn', 'B',\n",
       "       'Output'],\n",
       "      dtype='object')"
      ]
     },
     "execution_count": 215,
     "metadata": {},
     "output_type": "execute_result"
    }
   ],
   "source": [
    "df_fertility.columns"
   ]
  },
  {
   "cell_type": "code",
   "execution_count": 216,
   "id": "b6039ef7-032d-4fbd-a3ba-075c262c7a96",
   "metadata": {},
   "outputs": [
    {
     "data": {
      "text/plain": [
       "N         0\n",
       "P         0\n",
       "K         0\n",
       "pH        0\n",
       "EC        0\n",
       "OC        0\n",
       "S         0\n",
       "Zn        0\n",
       "Fe        0\n",
       "Cu        0\n",
       "Mn        0\n",
       "B         0\n",
       "Output    0\n",
       "dtype: int64"
      ]
     },
     "execution_count": 216,
     "metadata": {},
     "output_type": "execute_result"
    }
   ],
   "source": [
    "df_fertility.isna().sum()"
   ]
  },
  {
   "cell_type": "code",
   "execution_count": 217,
   "id": "a87caf5a-125d-4397-9f68-daf13f620b2e",
   "metadata": {},
   "outputs": [
    {
     "data": {
      "text/html": [
       "<div>\n",
       "<style scoped>\n",
       "    .dataframe tbody tr th:only-of-type {\n",
       "        vertical-align: middle;\n",
       "    }\n",
       "\n",
       "    .dataframe tbody tr th {\n",
       "        vertical-align: top;\n",
       "    }\n",
       "\n",
       "    .dataframe thead th {\n",
       "        text-align: right;\n",
       "    }\n",
       "</style>\n",
       "<table border=\"1\" class=\"dataframe\">\n",
       "  <thead>\n",
       "    <tr style=\"text-align: right;\">\n",
       "      <th></th>\n",
       "      <th>N</th>\n",
       "      <th>P</th>\n",
       "      <th>K</th>\n",
       "      <th>pH</th>\n",
       "      <th>EC</th>\n",
       "      <th>OC</th>\n",
       "      <th>S</th>\n",
       "      <th>Zn</th>\n",
       "      <th>Fe</th>\n",
       "      <th>Cu</th>\n",
       "      <th>Mn</th>\n",
       "      <th>B</th>\n",
       "      <th>Output</th>\n",
       "    </tr>\n",
       "  </thead>\n",
       "  <tbody>\n",
       "    <tr>\n",
       "      <th>count</th>\n",
       "      <td>880.00000</td>\n",
       "      <td>880.000000</td>\n",
       "      <td>880.000000</td>\n",
       "      <td>880.000000</td>\n",
       "      <td>880.000000</td>\n",
       "      <td>880.000000</td>\n",
       "      <td>880.000000</td>\n",
       "      <td>880.000000</td>\n",
       "      <td>880.000000</td>\n",
       "      <td>880.000000</td>\n",
       "      <td>880.000000</td>\n",
       "      <td>880.000000</td>\n",
       "      <td>880.000000</td>\n",
       "    </tr>\n",
       "    <tr>\n",
       "      <th>mean</th>\n",
       "      <td>246.73750</td>\n",
       "      <td>14.562159</td>\n",
       "      <td>499.978409</td>\n",
       "      <td>7.510500</td>\n",
       "      <td>0.543659</td>\n",
       "      <td>0.617989</td>\n",
       "      <td>7.545080</td>\n",
       "      <td>0.469273</td>\n",
       "      <td>4.140523</td>\n",
       "      <td>0.952443</td>\n",
       "      <td>8.666500</td>\n",
       "      <td>0.590159</td>\n",
       "      <td>0.588636</td>\n",
       "    </tr>\n",
       "    <tr>\n",
       "      <th>std</th>\n",
       "      <td>77.38886</td>\n",
       "      <td>21.967755</td>\n",
       "      <td>124.222838</td>\n",
       "      <td>0.464912</td>\n",
       "      <td>0.141597</td>\n",
       "      <td>0.842986</td>\n",
       "      <td>4.424184</td>\n",
       "      <td>1.894234</td>\n",
       "      <td>3.110011</td>\n",
       "      <td>0.465900</td>\n",
       "      <td>4.298828</td>\n",
       "      <td>0.570800</td>\n",
       "      <td>0.575462</td>\n",
       "    </tr>\n",
       "    <tr>\n",
       "      <th>min</th>\n",
       "      <td>6.00000</td>\n",
       "      <td>2.900000</td>\n",
       "      <td>11.000000</td>\n",
       "      <td>0.900000</td>\n",
       "      <td>0.100000</td>\n",
       "      <td>0.100000</td>\n",
       "      <td>0.640000</td>\n",
       "      <td>0.070000</td>\n",
       "      <td>0.210000</td>\n",
       "      <td>0.090000</td>\n",
       "      <td>0.110000</td>\n",
       "      <td>0.060000</td>\n",
       "      <td>0.000000</td>\n",
       "    </tr>\n",
       "    <tr>\n",
       "      <th>25%</th>\n",
       "      <td>201.00000</td>\n",
       "      <td>6.800000</td>\n",
       "      <td>412.000000</td>\n",
       "      <td>7.350000</td>\n",
       "      <td>0.430000</td>\n",
       "      <td>0.380000</td>\n",
       "      <td>4.700000</td>\n",
       "      <td>0.280000</td>\n",
       "      <td>2.050000</td>\n",
       "      <td>0.630000</td>\n",
       "      <td>6.225000</td>\n",
       "      <td>0.270000</td>\n",
       "      <td>0.000000</td>\n",
       "    </tr>\n",
       "    <tr>\n",
       "      <th>50%</th>\n",
       "      <td>257.00000</td>\n",
       "      <td>8.100000</td>\n",
       "      <td>475.000000</td>\n",
       "      <td>7.500000</td>\n",
       "      <td>0.545000</td>\n",
       "      <td>0.590000</td>\n",
       "      <td>6.640000</td>\n",
       "      <td>0.360000</td>\n",
       "      <td>3.565000</td>\n",
       "      <td>0.930000</td>\n",
       "      <td>8.345000</td>\n",
       "      <td>0.405000</td>\n",
       "      <td>1.000000</td>\n",
       "    </tr>\n",
       "    <tr>\n",
       "      <th>75%</th>\n",
       "      <td>307.00000</td>\n",
       "      <td>10.550000</td>\n",
       "      <td>581.000000</td>\n",
       "      <td>7.630000</td>\n",
       "      <td>0.640000</td>\n",
       "      <td>0.780000</td>\n",
       "      <td>8.750000</td>\n",
       "      <td>0.470000</td>\n",
       "      <td>6.320000</td>\n",
       "      <td>1.250000</td>\n",
       "      <td>11.472500</td>\n",
       "      <td>0.610000</td>\n",
       "      <td>1.000000</td>\n",
       "    </tr>\n",
       "    <tr>\n",
       "      <th>max</th>\n",
       "      <td>383.00000</td>\n",
       "      <td>125.000000</td>\n",
       "      <td>887.000000</td>\n",
       "      <td>11.150000</td>\n",
       "      <td>0.950000</td>\n",
       "      <td>24.000000</td>\n",
       "      <td>31.000000</td>\n",
       "      <td>42.000000</td>\n",
       "      <td>44.000000</td>\n",
       "      <td>3.020000</td>\n",
       "      <td>31.000000</td>\n",
       "      <td>2.820000</td>\n",
       "      <td>2.000000</td>\n",
       "    </tr>\n",
       "  </tbody>\n",
       "</table>\n",
       "</div>"
      ],
      "text/plain": [
       "               N           P           K          pH          EC          OC  \\\n",
       "count  880.00000  880.000000  880.000000  880.000000  880.000000  880.000000   \n",
       "mean   246.73750   14.562159  499.978409    7.510500    0.543659    0.617989   \n",
       "std     77.38886   21.967755  124.222838    0.464912    0.141597    0.842986   \n",
       "min      6.00000    2.900000   11.000000    0.900000    0.100000    0.100000   \n",
       "25%    201.00000    6.800000  412.000000    7.350000    0.430000    0.380000   \n",
       "50%    257.00000    8.100000  475.000000    7.500000    0.545000    0.590000   \n",
       "75%    307.00000   10.550000  581.000000    7.630000    0.640000    0.780000   \n",
       "max    383.00000  125.000000  887.000000   11.150000    0.950000   24.000000   \n",
       "\n",
       "                S          Zn          Fe          Cu          Mn           B  \\\n",
       "count  880.000000  880.000000  880.000000  880.000000  880.000000  880.000000   \n",
       "mean     7.545080    0.469273    4.140523    0.952443    8.666500    0.590159   \n",
       "std      4.424184    1.894234    3.110011    0.465900    4.298828    0.570800   \n",
       "min      0.640000    0.070000    0.210000    0.090000    0.110000    0.060000   \n",
       "25%      4.700000    0.280000    2.050000    0.630000    6.225000    0.270000   \n",
       "50%      6.640000    0.360000    3.565000    0.930000    8.345000    0.405000   \n",
       "75%      8.750000    0.470000    6.320000    1.250000   11.472500    0.610000   \n",
       "max     31.000000   42.000000   44.000000    3.020000   31.000000    2.820000   \n",
       "\n",
       "           Output  \n",
       "count  880.000000  \n",
       "mean     0.588636  \n",
       "std      0.575462  \n",
       "min      0.000000  \n",
       "25%      0.000000  \n",
       "50%      1.000000  \n",
       "75%      1.000000  \n",
       "max      2.000000  "
      ]
     },
     "execution_count": 217,
     "metadata": {},
     "output_type": "execute_result"
    }
   ],
   "source": [
    "df_fertility.describe()"
   ]
  },
  {
   "cell_type": "code",
   "execution_count": 218,
   "id": "250ec123-2be4-4193-ba09-43a5a21376df",
   "metadata": {},
   "outputs": [
    {
     "data": {
      "text/plain": [
       "N         -0.628791\n",
       "P          3.399597\n",
       "K          0.431791\n",
       "pH        -5.109816\n",
       "EC         0.102981\n",
       "OC        24.324069\n",
       "S          2.461067\n",
       "Zn        20.885448\n",
       "Fe         3.591439\n",
       "Cu         0.431235\n",
       "Mn         0.606551\n",
       "B          2.132577\n",
       "Output     0.349939\n",
       "dtype: float64"
      ]
     },
     "execution_count": 218,
     "metadata": {},
     "output_type": "execute_result"
    }
   ],
   "source": [
    "df_fertility.skew()"
   ]
  },
  {
   "cell_type": "code",
   "execution_count": 219,
   "id": "c2c99dc6-5e42-44fa-9c1e-42243247775d",
   "metadata": {},
   "outputs": [
    {
     "data": {
      "text/plain": [
       "Output\n",
       "1    440\n",
       "0    401\n",
       "2     39\n",
       "Name: count, dtype: int64"
      ]
     },
     "execution_count": 219,
     "metadata": {},
     "output_type": "execute_result"
    }
   ],
   "source": [
    "df_fertility[df_fertility.columns[-1]].value_counts()"
   ]
  },
  {
   "cell_type": "code",
   "execution_count": 220,
   "id": "5fda6cbd-d51f-4ef1-87ef-a58440908535",
   "metadata": {},
   "outputs": [
    {
     "data": {
      "image/png": "[encoded data removed]",
      "text/plain": [
       "<Figure size 2000x1500 with 12 Axes>"
      ]
     },
     "metadata": {},
     "output_type": "display_data"
    }
   ],
   "source": [
    "fig, axes = plt.subplots(3, 4, figsize=(20, 15))  \n",
    "for i, col in enumerate(df_fertility.columns[:-1]):\n",
    "    ax = plt.subplot(3, 4, i+1)  \n",
    "    df_fertility[col].plot(kind=\"box\", ax=ax)  \n",
    "\n",
    "\n",
    "plt.xlabel('Features')\n",
    "plt.ylabel('Values')\n",
    "plt.title('Boxplots for Features in df_fertility')\n",
    "\n",
    "plt.tight_layout()\n",
    "plt.show()"
   ]
  },
  {
   "cell_type": "code",
   "execution_count": 221,
   "id": "d34f0d26-de7d-46f8-8fc7-a1094381e220",
   "metadata": {},
   "outputs": [
    {
     "name": "stdout",
     "output_type": "stream",
     "text": [
      "N         -0.459931\n",
      "P          3.401006\n",
      "K          0.435049\n",
      "pH        -5.083451\n",
      "EC         0.103035\n",
      "OC        24.219992\n",
      "S          2.513760\n",
      "Zn        20.732389\n",
      "Fe         3.613425\n",
      "Cu         0.439203\n",
      "Mn         0.603002\n",
      "B          2.212213\n",
      "Output     0.329688\n",
      "dtype: float64\n",
      "13\n",
      "Lower Bound: 42.0\n",
      "Upper Bound: 466.0\n",
      "---_--------------------_----------------------_---------------\n",
      "N         -0.474237\n",
      "P          0.928673\n",
      "K          0.423526\n",
      "pH        -5.035928\n",
      "EC         0.086637\n",
      "OC        23.526185\n",
      "S          2.435081\n",
      "Zn        19.808044\n",
      "Fe         3.911972\n",
      "Cu         0.448134\n",
      "Mn         0.644361\n",
      "B          2.090609\n",
      "Output     0.343474\n",
      "dtype: float64\n",
      "76\n",
      "Lower Bound: 0.9500000000000002\n",
      "Upper Bound: 16.549999999999997\n",
      "---_--------------------_----------------------_---------------\n",
      "N         -0.468801\n",
      "P          0.947415\n",
      "K          0.370939\n",
      "pH        -5.040530\n",
      "EC         0.071722\n",
      "OC        23.399917\n",
      "S          2.437854\n",
      "Zn        19.658762\n",
      "Fe         3.914459\n",
      "Cu         0.441387\n",
      "Mn         0.647693\n",
      "B          2.086461\n",
      "Output     0.354848\n",
      "dtype: float64\n",
      "12\n",
      "Lower Bound: 175.0\n",
      "Upper Bound: 807.0\n",
      "---_--------------------_----------------------_---------------\n",
      "N         -0.444777\n",
      "P          0.960254\n",
      "K          0.384905\n",
      "pH         0.008799\n",
      "EC         0.051506\n",
      "OC        23.031824\n",
      "S          2.420182\n",
      "Zn        19.216303\n",
      "Fe         3.979748\n",
      "Cu         0.445978\n",
      "Mn         0.696630\n",
      "B          2.078975\n",
      "Output     0.374921\n",
      "dtype: float64\n",
      "35\n",
      "Lower Bound: 6.890000000000001\n",
      "Upper Bound: 8.09\n",
      "---_--------------------_----------------------_---------------\n",
      "N         -0.446463\n",
      "P          0.965320\n",
      "K          0.386621\n",
      "pH         0.011026\n",
      "EC         0.081326\n",
      "OC        23.016610\n",
      "S          2.418359\n",
      "Zn        19.203344\n",
      "Fe         3.981001\n",
      "Cu         0.446990\n",
      "Mn         0.698831\n",
      "B          2.080008\n",
      "Output     0.377819\n",
      "dtype: float64\n",
      "1\n",
      "Lower Bound: 0.11499999999999994\n",
      "Upper Bound: 0.9550000000000001\n",
      "---_--------------------_----------------------_---------------\n",
      "N         -0.447275\n",
      "P          0.963236\n",
      "K          0.384862\n",
      "pH         0.011299\n",
      "EC         0.081430\n",
      "OC         0.074674\n",
      "S          2.417323\n",
      "Zn        26.970761\n",
      "Fe         3.494930\n",
      "Cu         0.448043\n",
      "Mn         0.697259\n",
      "B          2.086169\n",
      "Output     0.380726\n",
      "dtype: float64\n",
      "1\n",
      "Lower Bound: -0.29500000000000004\n",
      "Upper Bound: 1.425\n",
      "---_--------------------_----------------------_---------------\n",
      "N         -0.456868\n",
      "P          0.950354\n",
      "K          0.390978\n",
      "pH         0.000290\n",
      "EC         0.088936\n",
      "OC         0.111958\n",
      "S          0.573785\n",
      "Zn        26.241513\n",
      "Fe         3.676612\n",
      "Cu         0.404719\n",
      "Mn         0.555523\n",
      "B          2.422150\n",
      "Output     0.379527\n",
      "dtype: float64\n",
      "41\n",
      "Lower Bound: -1.1250000000000009\n",
      "Upper Bound: 14.675\n",
      "---_--------------------_----------------------_---------------\n",
      "N        -0.463478\n",
      "P         0.959323\n",
      "K         0.394470\n",
      "pH        0.007825\n",
      "EC        0.082274\n",
      "OC        0.114484\n",
      "S         0.574455\n",
      "Zn        0.509176\n",
      "Fe        0.412490\n",
      "Cu        0.411899\n",
      "Mn        0.560527\n",
      "B         2.437783\n",
      "Output    0.376161\n",
      "dtype: float64\n",
      "6\n",
      "Lower Bound: -0.004999999999999893\n",
      "Upper Bound: 0.7549999999999999\n",
      "---_--------------------_----------------------_---------------\n",
      "N        -0.463478\n",
      "P         0.959323\n",
      "K         0.394470\n",
      "pH        0.007825\n",
      "EC        0.082274\n",
      "OC        0.114484\n",
      "S         0.574455\n",
      "Zn        0.509176\n",
      "Fe        0.412490\n",
      "Cu        0.411899\n",
      "Mn        0.560527\n",
      "B         2.437783\n",
      "Output    0.376161\n",
      "dtype: float64\n",
      "0\n",
      "Lower Bound: -3.2900000000000005\n",
      "Upper Bound: 12.07\n",
      "---_--------------------_----------------------_---------------\n",
      "N        -0.463478\n",
      "P         0.959323\n",
      "K         0.394470\n",
      "pH        0.007825\n",
      "EC        0.082274\n",
      "OC        0.114484\n",
      "S         0.574455\n",
      "Zn        0.509176\n",
      "Fe        0.412490\n",
      "Cu        0.411899\n",
      "Mn        0.560527\n",
      "B         2.437783\n",
      "Output    0.376161\n",
      "dtype: float64\n",
      "0\n",
      "Lower Bound: -0.29999999999999993\n",
      "Upper Bound: 2.1799999999999997\n",
      "---_--------------------_----------------------_---------------\n",
      "N        -0.455400\n",
      "P         0.965852\n",
      "K         0.401958\n",
      "pH       -0.017046\n",
      "EC        0.086439\n",
      "OC        0.123773\n",
      "S         0.578763\n",
      "Zn        0.576120\n",
      "Fe        0.401463\n",
      "Cu        0.423860\n",
      "Mn        0.211799\n",
      "B         2.432390\n",
      "Output    0.394698\n",
      "dtype: float64\n",
      "13\n",
      "Lower Bound: -1.1500000000000004\n",
      "Upper Bound: 19.050000000000004\n",
      "---_--------------------_----------------------_---------------\n",
      "N        -0.477279\n",
      "P         0.943567\n",
      "K         0.408346\n",
      "pH       -0.031306\n",
      "EC        0.077964\n",
      "OC        0.227972\n",
      "S         0.570414\n",
      "Zn        0.553984\n",
      "Fe        0.392060\n",
      "Cu        0.502117\n",
      "Mn        0.358117\n",
      "B         0.483453\n",
      "Output    0.361974\n",
      "dtype: float64\n",
      "72\n",
      "Lower Bound: -0.25249999999999995\n",
      "Upper Bound: 1.0875\n",
      "---_--------------------_----------------------_---------------\n"
     ]
    }
   ],
   "source": [
    "for col in df_fertility.columns[:-1]:\n",
    "    \n",
    "    Q1 = df_fertility[col].quantile(0.25)\n",
    "    Q3 = df_fertility[col].quantile(0.75)\n",
    "    IQR = Q3 - Q1\n",
    "    \n",
    "\n",
    "    lower_bound = Q1 - 1.5 * IQR\n",
    "    upper_bound = Q3 + 1.5 * IQR\n",
    "    \n",
    " \n",
    "    outliers = df_fertility[(df_fertility[col] < lower_bound) | (df_fertility[col] > upper_bound)].index\n",
    "    df_fertility = df_fertility.drop(index = outliers)\n",
    "    print(df_fertility.skew())\n",
    "    print(len(outliers))\n",
    "    print(f\"Lower Bound: {lower_bound}\")\n",
    "    print(f\"Upper Bound: {upper_bound}\")\n",
    "    print(\"---_--------------------_----------------------_---------------\")"
   ]
  },
  {
   "cell_type": "code",
   "execution_count": 222,
   "id": "c342b346-c812-48a6-b1bd-94067332ece5",
   "metadata": {},
   "outputs": [
    {
     "data": {
      "text/plain": [
       "N        -0.477279\n",
       "P         0.943567\n",
       "K         0.408346\n",
       "pH       -0.031306\n",
       "EC        0.077964\n",
       "OC        0.227972\n",
       "S         0.570414\n",
       "Zn        0.553984\n",
       "Fe        0.392060\n",
       "Cu        0.502117\n",
       "Mn        0.358117\n",
       "B         0.483453\n",
       "Output    0.361974\n",
       "dtype: float64"
      ]
     },
     "execution_count": 222,
     "metadata": {},
     "output_type": "execute_result"
    }
   ],
   "source": [
    "df_fertility.skew()"
   ]
  },
  {
   "cell_type": "code",
   "execution_count": 223,
   "id": "291c2aab-1132-46ba-ac21-b4c6e891d25e",
   "metadata": {},
   "outputs": [
    {
     "data": {
      "image/png": "[encoded data removed]",
      "text/plain": [
       "<Figure size 2000x1500 with 12 Axes>"
      ]
     },
     "metadata": {},
     "output_type": "display_data"
    }
   ],
   "source": [
    "fig, axes = plt.subplots(3, 4, figsize=(20, 15))  \n",
    "for i, col in enumerate(df_fertility.columns[:-1]):\n",
    "    ax = plt.subplot(3, 4, i+1)  \n",
    "    df_fertility[col].plot(kind=\"box\", ax=ax)  \n",
    "\n",
    "\n",
    "plt.xlabel('Features')\n",
    "plt.ylabel('Values')\n",
    "plt.title('Boxplots for Features in df_fertility')\n",
    "\n",
    "plt.tight_layout()\n",
    "plt.show()"
   ]
  },
  {
   "cell_type": "code",
   "execution_count": 224,
   "id": "fe24bb5b-9f16-4903-bfb1-62171e71f836",
   "metadata": {},
   "outputs": [
    {
     "data": {
      "text/html": [
       "<div>\n",
       "<style scoped>\n",
       "    .dataframe tbody tr th:only-of-type {\n",
       "        vertical-align: middle;\n",
       "    }\n",
       "\n",
       "    .dataframe tbody tr th {\n",
       "        vertical-align: top;\n",
       "    }\n",
       "\n",
       "    .dataframe thead th {\n",
       "        text-align: right;\n",
       "    }\n",
       "</style>\n",
       "<table border=\"1\" class=\"dataframe\">\n",
       "  <thead>\n",
       "    <tr style=\"text-align: right;\">\n",
       "      <th></th>\n",
       "      <th>N</th>\n",
       "      <th>P</th>\n",
       "      <th>K</th>\n",
       "      <th>pH</th>\n",
       "      <th>EC</th>\n",
       "      <th>OC</th>\n",
       "      <th>S</th>\n",
       "      <th>Zn</th>\n",
       "      <th>Fe</th>\n",
       "      <th>Cu</th>\n",
       "      <th>Mn</th>\n",
       "      <th>B</th>\n",
       "      <th>Output</th>\n",
       "    </tr>\n",
       "  </thead>\n",
       "  <tbody>\n",
       "    <tr>\n",
       "      <th>0</th>\n",
       "      <td>138</td>\n",
       "      <td>8.6</td>\n",
       "      <td>560</td>\n",
       "      <td>7.46</td>\n",
       "      <td>0.62</td>\n",
       "      <td>0.70</td>\n",
       "      <td>5.90</td>\n",
       "      <td>0.24</td>\n",
       "      <td>0.31</td>\n",
       "      <td>0.77</td>\n",
       "      <td>8.71</td>\n",
       "      <td>0.11</td>\n",
       "      <td>0</td>\n",
       "    </tr>\n",
       "    <tr>\n",
       "      <th>19</th>\n",
       "      <td>245</td>\n",
       "      <td>8.1</td>\n",
       "      <td>560</td>\n",
       "      <td>7.31</td>\n",
       "      <td>0.63</td>\n",
       "      <td>0.78</td>\n",
       "      <td>11.60</td>\n",
       "      <td>0.29</td>\n",
       "      <td>0.43</td>\n",
       "      <td>0.57</td>\n",
       "      <td>7.73</td>\n",
       "      <td>0.74</td>\n",
       "      <td>0</td>\n",
       "    </tr>\n",
       "    <tr>\n",
       "      <th>28</th>\n",
       "      <td>245</td>\n",
       "      <td>8.3</td>\n",
       "      <td>560</td>\n",
       "      <td>7.58</td>\n",
       "      <td>0.74</td>\n",
       "      <td>0.83</td>\n",
       "      <td>8.20</td>\n",
       "      <td>0.32</td>\n",
       "      <td>0.96</td>\n",
       "      <td>1.57</td>\n",
       "      <td>2.67</td>\n",
       "      <td>0.59</td>\n",
       "      <td>0</td>\n",
       "    </tr>\n",
       "    <tr>\n",
       "      <th>41</th>\n",
       "      <td>182</td>\n",
       "      <td>10.7</td>\n",
       "      <td>708</td>\n",
       "      <td>7.48</td>\n",
       "      <td>0.57</td>\n",
       "      <td>1.11</td>\n",
       "      <td>14.20</td>\n",
       "      <td>0.59</td>\n",
       "      <td>0.92</td>\n",
       "      <td>1.15</td>\n",
       "      <td>6.69</td>\n",
       "      <td>0.65</td>\n",
       "      <td>0</td>\n",
       "    </tr>\n",
       "    <tr>\n",
       "      <th>50</th>\n",
       "      <td>107</td>\n",
       "      <td>8.3</td>\n",
       "      <td>612</td>\n",
       "      <td>7.43</td>\n",
       "      <td>0.43</td>\n",
       "      <td>0.75</td>\n",
       "      <td>7.20</td>\n",
       "      <td>0.18</td>\n",
       "      <td>0.95</td>\n",
       "      <td>0.89</td>\n",
       "      <td>2.16</td>\n",
       "      <td>0.74</td>\n",
       "      <td>0</td>\n",
       "    </tr>\n",
       "    <tr>\n",
       "      <th>...</th>\n",
       "      <td>...</td>\n",
       "      <td>...</td>\n",
       "      <td>...</td>\n",
       "      <td>...</td>\n",
       "      <td>...</td>\n",
       "      <td>...</td>\n",
       "      <td>...</td>\n",
       "      <td>...</td>\n",
       "      <td>...</td>\n",
       "      <td>...</td>\n",
       "      <td>...</td>\n",
       "      <td>...</td>\n",
       "      <td>...</td>\n",
       "    </tr>\n",
       "    <tr>\n",
       "      <th>875</th>\n",
       "      <td>351</td>\n",
       "      <td>10.7</td>\n",
       "      <td>623</td>\n",
       "      <td>7.96</td>\n",
       "      <td>0.51</td>\n",
       "      <td>0.29</td>\n",
       "      <td>7.24</td>\n",
       "      <td>0.36</td>\n",
       "      <td>4.69</td>\n",
       "      <td>0.69</td>\n",
       "      <td>11.03</td>\n",
       "      <td>0.69</td>\n",
       "      <td>1</td>\n",
       "    </tr>\n",
       "    <tr>\n",
       "      <th>876</th>\n",
       "      <td>264</td>\n",
       "      <td>9.0</td>\n",
       "      <td>486</td>\n",
       "      <td>7.24</td>\n",
       "      <td>0.47</td>\n",
       "      <td>0.10</td>\n",
       "      <td>3.92</td>\n",
       "      <td>0.35</td>\n",
       "      <td>8.26</td>\n",
       "      <td>0.45</td>\n",
       "      <td>7.98</td>\n",
       "      <td>0.40</td>\n",
       "      <td>1</td>\n",
       "    </tr>\n",
       "    <tr>\n",
       "      <th>877</th>\n",
       "      <td>276</td>\n",
       "      <td>9.2</td>\n",
       "      <td>370</td>\n",
       "      <td>7.62</td>\n",
       "      <td>0.62</td>\n",
       "      <td>0.49</td>\n",
       "      <td>6.64</td>\n",
       "      <td>0.42</td>\n",
       "      <td>3.57</td>\n",
       "      <td>0.63</td>\n",
       "      <td>6.48</td>\n",
       "      <td>0.32</td>\n",
       "      <td>1</td>\n",
       "    </tr>\n",
       "    <tr>\n",
       "      <th>878</th>\n",
       "      <td>320</td>\n",
       "      <td>13.8</td>\n",
       "      <td>391</td>\n",
       "      <td>7.38</td>\n",
       "      <td>0.65</td>\n",
       "      <td>1.07</td>\n",
       "      <td>5.43</td>\n",
       "      <td>0.58</td>\n",
       "      <td>4.58</td>\n",
       "      <td>1.02</td>\n",
       "      <td>13.25</td>\n",
       "      <td>0.53</td>\n",
       "      <td>2</td>\n",
       "    </tr>\n",
       "    <tr>\n",
       "      <th>879</th>\n",
       "      <td>264</td>\n",
       "      <td>10.3</td>\n",
       "      <td>475</td>\n",
       "      <td>7.49</td>\n",
       "      <td>0.74</td>\n",
       "      <td>0.88</td>\n",
       "      <td>10.56</td>\n",
       "      <td>0.45</td>\n",
       "      <td>7.36</td>\n",
       "      <td>1.87</td>\n",
       "      <td>10.63</td>\n",
       "      <td>0.63</td>\n",
       "      <td>0</td>\n",
       "    </tr>\n",
       "  </tbody>\n",
       "</table>\n",
       "<p>610 rows × 13 columns</p>\n",
       "</div>"
      ],
      "text/plain": [
       "       N     P    K    pH    EC    OC      S    Zn    Fe    Cu     Mn     B  \\\n",
       "0    138   8.6  560  7.46  0.62  0.70   5.90  0.24  0.31  0.77   8.71  0.11   \n",
       "19   245   8.1  560  7.31  0.63  0.78  11.60  0.29  0.43  0.57   7.73  0.74   \n",
       "28   245   8.3  560  7.58  0.74  0.83   8.20  0.32  0.96  1.57   2.67  0.59   \n",
       "41   182  10.7  708  7.48  0.57  1.11  14.20  0.59  0.92  1.15   6.69  0.65   \n",
       "50   107   8.3  612  7.43  0.43  0.75   7.20  0.18  0.95  0.89   2.16  0.74   \n",
       "..   ...   ...  ...   ...   ...   ...    ...   ...   ...   ...    ...   ...   \n",
       "875  351  10.7  623  7.96  0.51  0.29   7.24  0.36  4.69  0.69  11.03  0.69   \n",
       "876  264   9.0  486  7.24  0.47  0.10   3.92  0.35  8.26  0.45   7.98  0.40   \n",
       "877  276   9.2  370  7.62  0.62  0.49   6.64  0.42  3.57  0.63   6.48  0.32   \n",
       "878  320  13.8  391  7.38  0.65  1.07   5.43  0.58  4.58  1.02  13.25  0.53   \n",
       "879  264  10.3  475  7.49  0.74  0.88  10.56  0.45  7.36  1.87  10.63  0.63   \n",
       "\n",
       "     Output  \n",
       "0         0  \n",
       "19        0  \n",
       "28        0  \n",
       "41        0  \n",
       "50        0  \n",
       "..      ...  \n",
       "875       1  \n",
       "876       1  \n",
       "877       1  \n",
       "878       2  \n",
       "879       0  \n",
       "\n",
       "[610 rows x 13 columns]"
      ]
     },
     "execution_count": 224,
     "metadata": {},
     "output_type": "execute_result"
    }
   ],
   "source": [
    "df_fertility"
   ]
  },
  {
   "cell_type": "code",
   "execution_count": 225,
   "id": "e3fca3ad-be6c-42e2-8999-d5f6c86410bf",
   "metadata": {},
   "outputs": [
    {
     "data": {
      "text/plain": [
       "Output\n",
       "0    306\n",
       "1    289\n",
       "2     15\n",
       "Name: count, dtype: int64"
      ]
     },
     "execution_count": 225,
     "metadata": {},
     "output_type": "execute_result"
    }
   ],
   "source": [
    "df_fertility[df_fertility.columns[-1]].value_counts()"
   ]
  },
  {
   "cell_type": "code",
   "execution_count": 226,
   "id": "ffb1de38-e81f-48ac-96bb-84c8d307d194",
   "metadata": {},
   "outputs": [
    {
     "data": {
      "image/png": "[encoded data removed]",
      "text/plain": [
       "<Figure size 640x480 with 1 Axes>"
      ]
     },
     "metadata": {},
     "output_type": "display_data"
    }
   ],
   "source": [
    "from imblearn.over_sampling import SMOTE\n",
    "from sklearn.model_selection import train_test_split\n",
    "X = df_fertility.drop(columns=['Output'])\n",
    "y = df_fertility['Output']\n",
    "\n",
    "X_train, X_test, y_train, y_test = train_test_split(X, y, test_size=0.2, random_state=42)\n",
    "\n",
    "\n",
    "smote = SMOTE(random_state=42)\n",
    "X_train_smote, y_train_smote = smote.fit_resample(X_train, y_train)\n",
    "\n",
    "y_train_smote.value_counts().plot(kind='bar')\n",
    "plt.title('Class Distribution after SMOTE')\n",
    "plt.xlabel('Irrigation')\n",
    "plt.ylabel('Frequency')\n",
    "plt.show()"
   ]
  },
  {
   "cell_type": "code",
   "execution_count": 227,
   "id": "76fd73e2-44c6-4f28-9432-6cec364fa42d",
   "metadata": {},
   "outputs": [
    {
     "data": {
      "text/plain": [
       "Output\n",
       "0    239\n",
       "1    239\n",
       "2    239\n",
       "Name: count, dtype: int64"
      ]
     },
     "execution_count": 227,
     "metadata": {},
     "output_type": "execute_result"
    }
   ],
   "source": [
    "y_train_smote.value_counts()"
   ]
  },
  {
   "cell_type": "code",
   "execution_count": 228,
   "id": "024f4392-38d0-48a0-91ed-a0a092cbcffb",
   "metadata": {},
   "outputs": [
    {
     "name": "stdout",
     "output_type": "stream",
     "text": [
      "Training Set Performance:\n",
      "Accuracy: 1.0\n",
      "Confusion Matrix:\n",
      " [[239   0   0]\n",
      " [  0 239   0]\n",
      " [  0   0 239]]\n",
      "Classification Report:\n",
      "               precision    recall  f1-score   support\n",
      "\n",
      "           0       1.00      1.00      1.00       239\n",
      "           1       1.00      1.00      1.00       239\n",
      "           2       1.00      1.00      1.00       239\n",
      "\n",
      "    accuracy                           1.00       717\n",
      "   macro avg       1.00      1.00      1.00       717\n",
      "weighted avg       1.00      1.00      1.00       717\n",
      "\n",
      "Test Set Performance:\n",
      "Accuracy: 0.8770491803278688\n",
      "Confusion Matrix:\n",
      " [[58  9  0]\n",
      " [ 3 48  2]\n",
      " [ 0  1  1]]\n",
      "Classification Report:\n",
      "               precision    recall  f1-score   support\n",
      "\n",
      "           0       0.95      0.87      0.91        67\n",
      "           1       0.83      0.91      0.86        53\n",
      "           2       0.33      0.50      0.40         2\n",
      "\n",
      "    accuracy                           0.88       122\n",
      "   macro avg       0.70      0.76      0.72       122\n",
      "weighted avg       0.89      0.88      0.88       122\n",
      "\n"
     ]
    }
   ],
   "source": [
    "rf_classifier = RandomForestClassifier(random_state=42)\n",
    "\n",
    " \n",
    "rf_classifier.fit(X_train_smote, y_train_smote)\n",
    "\n",
    " \n",
    "y_pred_train = rf_classifier.predict(X_train_smote)\n",
    "\n",
    " \n",
    "y_pred_test = rf_classifier.predict(X_test)\n",
    "\n",
    " \n",
    "print('Training Set Performance:')\n",
    "print('Accuracy:', accuracy_score(y_train_smote, y_pred_train))\n",
    "print('Confusion Matrix:\\n', confusion_matrix(y_train_smote, y_pred_train))\n",
    "print('Classification Report:\\n', classification_report(y_train_smote, y_pred_train))\n",
    "\n",
    "print('Test Set Performance:')\n",
    "print('Accuracy:', accuracy_score(y_test, y_pred_test))\n",
    "print('Confusion Matrix:\\n', confusion_matrix(y_test, y_pred_test))\n",
    "print('Classification Report:\\n', classification_report(y_test, y_pred_test))"
   ]
  },
  {
   "cell_type": "code",
   "execution_count": 229,
   "id": "bd1e14c1-48cb-4074-b8bd-ad0b1ddb3104",
   "metadata": {},
   "outputs": [
    {
     "name": "stdout",
     "output_type": "stream",
     "text": [
      "Cross-Validation Scores: [0.95138889 0.98611111 0.96503497 0.95104895 0.95104895]\n",
      "Mean Cross-Validation Score: 0.9609265734265733\n"
     ]
    }
   ],
   "source": [
    "cv_scores = cross_val_score(rf_classifier, X_train_smote, y_train_smote, cv=5)\n",
    "print('Cross-Validation Scores:', cv_scores)\n",
    "print('Mean Cross-Validation Score:', np.mean(cv_scores))"
   ]
  },
  {
   "cell_type": "code",
   "execution_count": 230,
   "id": "e978a873-5116-4ae7-8459-253964430830",
   "metadata": {},
   "outputs": [],
   "source": [
    "# model_filename = 'fertility.pkl'\n",
    "# with open(model_filename, 'wb') as file:\n",
    "#     pickle.dump(rf_classifier, file)"
   ]
  }
 ],
 "metadata": {
  "kernelspec": {
   "display_name": "Python 3 (ipykernel)",
   "language": "python",
   "name": "python3"
  },
  "language_info": {
   "codemirror_mode": {
    "name": "ipython",
    "version": 3
   },
   "file_extension": ".py",
   "mimetype": "text/x-python",
   "name": "python",
   "nbconvert_exporter": "python",
   "pygments_lexer": "ipython3",
   "version": "3.12.2"
  }
 },
 "nbformat": 4,
 "nbformat_minor": 5
}
